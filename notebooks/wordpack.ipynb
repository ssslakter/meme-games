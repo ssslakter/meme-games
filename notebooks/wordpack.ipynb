{
 "cells": [
  {
   "cell_type": "code",
   "execution_count": null,
   "metadata": {},
   "outputs": [],
   "source": [
    "#|default_exp apps.word_packs.domain"
   ]
  },
  {
   "cell_type": "code",
   "execution_count": null,
   "metadata": {},
   "outputs": [],
   "source": [
    "#| export\n",
    "from meme_games.core import *\n",
    "from meme_games.domain import *\n",
    "\n",
    "@dataclass\n",
    "class WordPack(Model):\n",
    "    _ignore = ('author')\n",
    "\n",
    "    name: str = 'Empty Pack'\n",
    "    words_: str = '' # \\n separated words\n",
    "    author: Optional[User] = None\n",
    "    author_id: str = ''\n",
    "    id: str = field(default_factory=random_id)\n",
    "    created_at: dt.datetime = field(default_factory=dt.datetime.now)\n",
    "    \n",
    "    def __post_init__(self):\n",
    "        if isinstance(self.words_, list): self.words_ = '\\n'.join(self.words_)\n",
    "    \n",
    "    @property\n",
    "    def words(self):\n",
    "        return self.words_.split('\\n')\n",
    "    \n",
    "    def get_author_name(self) -> Optional[str]:\n",
    "        return self.author.name if self.author else None\n",
    "\n",
    "    \n",
    "    @classmethod\n",
    "    def from_cols(cls, cols: dict):\n",
    "        d = cols2dict(cols)\n",
    "        if d[cls]['author_id']:\n",
    "            d[cls]['author'] = User.from_dict(d.pop(User))\n",
    "        return cls.from_dict(d[cls])\n",
    "\n",
    "\n",
    "class WordPackRepo(DataRepository[WordPack]):\n",
    "    def _set_tables(self):\n",
    "        self.wordpacks = self.db.t.wordpacks.create(WordPack.columns(), pk='id', transform=True)\n",
    "        self.users = self.db.t.user\n",
    "\n",
    "        self.qry_template = f\"\"\"\n",
    "        select {mk_aliases(WordPack, self.wordpacks)},\n",
    "        {mk_aliases(User, self.users)}\n",
    "        from {self.wordpacks} left join {self.users}\n",
    "        on {self.wordpacks.c.author_id} = {self.users.c.uid}\n",
    "        \"\"\"\n",
    "        return self.wordpacks\n",
    "    \n",
    "    def __post_init__(self):\n",
    "        self.init_defaults()\n",
    "        \n",
    "    def get_all(self, offset: int = 0, limit: int = 100):\n",
    "        qry = f\"{self.qry_template} limit {limit} offset {offset}\"\n",
    "        return list(map(WordPack.from_cols, self.db.q(qry)))\n",
    "    \n",
    "    \n",
    "    def get_by_id(self, id: str):\n",
    "        if id not in self.table: return None\n",
    "        return WordPack.from_dict(self.table.get(id))\n",
    "    \n",
    "\n",
    "    def find(self, name: str) -> Optional[WordPack]:\n",
    "        '''Finds a wordpack by its name.'''\n",
    "        res = self.db.q(f\"{self.qry_template} where {self.table.c.name} like ?\", [name])\n",
    "        return WordPack.from_cols(res[0]) if res else None\n",
    "    \n",
    "\n",
    "    def init_defaults(self):\n",
    "        if self.find('default'): return\n",
    "        packs = [\n",
    "            WordPack(name='Default', words_='apple\\nbanana\\ncherry\\norange\\npear'),\n",
    "        ]\n",
    "        self.upsert_all(packs)"
   ]
  },
  {
   "cell_type": "code",
   "execution_count": null,
   "metadata": {},
   "outputs": [],
   "source": [
    "db = init_db(\":memory:\")\n",
    "manager = WordPackManager(db)"
   ]
  },
  {
   "cell_type": "code",
   "execution_count": null,
   "metadata": {},
   "outputs": [],
   "source": [
    "word_pack = WordPack(id='1', words_=['apple', 'banana', 'cherry'])"
   ]
  },
  {
   "cell_type": "code",
   "execution_count": null,
   "metadata": {},
   "outputs": [
    {
     "data": {
      "text/plain": [
       "WordPack(id='1', words_='apple\\nbanana\\ncherry', created_at=datetime.datetime(2025, 6, 26, 20, 26, 50, 551526))"
      ]
     },
     "execution_count": null,
     "metadata": {},
     "output_type": "execute_result"
    }
   ],
   "source": [
    "manager.insert(word_pack)"
   ]
  },
  {
   "cell_type": "code",
   "execution_count": null,
   "metadata": {},
   "outputs": [
    {
     "data": {
      "text/plain": [
       "['apple', 'banana', 'cherry']"
      ]
     },
     "execution_count": null,
     "metadata": {},
     "output_type": "execute_result"
    }
   ],
   "source": [
    "manager.get_all()[0].words"
   ]
  }
 ],
 "metadata": {
  "kernelspec": {
   "display_name": "python3",
   "language": "python",
   "name": "python3"
  }
 },
 "nbformat": 4,
 "nbformat_minor": 2
}

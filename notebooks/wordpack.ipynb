{
 "cells": [
  {
   "cell_type": "code",
   "execution_count": null,
   "metadata": {},
   "outputs": [],
   "source": [
    "#|default_exp apps.word_packs.domain"
   ]
  },
  {
   "cell_type": "code",
   "execution_count": null,
   "metadata": {},
   "outputs": [],
   "source": [
    "#| export\n",
    "from meme_games.core import *\n",
    "\n",
    "@dataclass\n",
    "class WordPack(Model):\n",
    "    name: str\n",
    "    words_: str # \\n separated words\n",
    "    id: str = field(default_factory=random_id)\n",
    "    created_at: dt.datetime = field(default_factory=dt.datetime.now)\n",
    "    \n",
    "    def __post_init__(self):\n",
    "        if isinstance(self.words_, list): self.words_ = '\\n'.join(self.words_)\n",
    "    @property\n",
    "    def words(self):\n",
    "        return self.words_.split('\\n')\n",
    "\n",
    "\n",
    "class WordPackManager(DataManager[WordPack]):\n",
    "    def _set_tables(self):\n",
    "        self.words = self.db.t.wordpacks.create(WordPack.columns(), pk='id', if_not_exists=True)\n",
    "        return self.words\n",
    "\n",
    "    def get_all(self):\n",
    "        return list(map(WordPack.from_cols, self.db.q(f'select {mk_aliases(WordPack, self.table)} from {self.table}')))\n",
    "    \n",
    "    def get_by_id(self, id: str):\n",
    "        return WordPack.from_dict(self.words.get(id))\n",
    "    "
   ]
  },
  {
   "cell_type": "code",
   "execution_count": null,
   "metadata": {},
   "outputs": [],
   "source": [
    "db = init_db(\":memory:\")\n",
    "manager = WordPackManager(db)"
   ]
  },
  {
   "cell_type": "code",
   "execution_count": null,
   "metadata": {},
   "outputs": [],
   "source": [
    "word_pack = WordPack(id='1', words_=['apple', 'banana', 'cherry'])"
   ]
  },
  {
   "cell_type": "code",
   "execution_count": null,
   "metadata": {},
   "outputs": [
    {
     "data": {
      "text/plain": [
       "WordPack(id='1', words_='apple\\nbanana\\ncherry', created_at=datetime.datetime(2025, 6, 26, 20, 26, 50, 551526))"
      ]
     },
     "execution_count": null,
     "metadata": {},
     "output_type": "execute_result"
    }
   ],
   "source": [
    "manager.insert(word_pack)"
   ]
  },
  {
   "cell_type": "code",
   "execution_count": null,
   "metadata": {},
   "outputs": [
    {
     "data": {
      "text/plain": [
       "['apple', 'banana', 'cherry']"
      ]
     },
     "execution_count": null,
     "metadata": {},
     "output_type": "execute_result"
    }
   ],
   "source": [
    "manager.get_all()[0].words"
   ]
  }
 ],
 "metadata": {
  "kernelspec": {
   "display_name": "python3",
   "language": "python",
   "name": "python3"
  }
 },
 "nbformat": 4,
 "nbformat_minor": 2
}

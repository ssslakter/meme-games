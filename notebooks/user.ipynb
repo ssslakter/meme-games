{
 "cells": [
  {
   "cell_type": "code",
   "execution_count": null,
   "metadata": {},
   "outputs": [],
   "source": [
    "#| default_exp user"
   ]
  },
  {
   "cell_type": "code",
   "execution_count": null,
   "metadata": {},
   "outputs": [],
   "source": [
    "#| export\n",
    "from functools import wraps\n",
    "from uuid import uuid4\n",
    "from dataclasses import dataclass\n",
    "from fasthtml.common import *\n",
    "from fasthtml.jupyter import JupyUvi, HTMX\n",
    "import fastlite as fl\n",
    "import fastcore.all as fc\n",
    "from meme_games.utils import *"
   ]
  },
  {
   "cell_type": "code",
   "execution_count": null,
   "metadata": {},
   "outputs": [],
   "source": [
    "#| export\n",
    "@dataclass\n",
    "class User:\n",
    "    uid: str\n",
    "    name: str\n"
   ]
  },
  {
   "cell_type": "code",
   "execution_count": null,
   "metadata": {},
   "outputs": [],
   "source": [
    "#| export\n",
    "@fc.delegates(Database)\n",
    "def init_db(filename_or_conn=':memory:', **kwargs):\n",
    "    db = Database(filename_or_conn, **kwargs)\n",
    "    db.create(User, pk='uid')\n",
    "    db.t.user.cls = User\n",
    "    return db"
   ]
  },
  {
   "cell_type": "code",
   "execution_count": null,
   "metadata": {},
   "outputs": [],
   "source": [
    "#| export\n",
    "class UserManager(DataManager):\n",
    "    def __post_init__(self): self.users: fl.Table = self.db.t.user\n",
    "    \n",
    "    def create(self, uid: str=None, name: str = 'null'):\n",
    "        u = User(uid or str(uuid4()), name)\n",
    "        self.users.insert(u)\n",
    "        return u\n",
    "    \n",
    "    def get(self, uid: str): return self.users.get(uid)\n",
    "    def update(self, user: User): return self.users.update(user)\n",
    "    \n",
    "    def get_or_create(self, sess: dict, name: str = 'null') -> User:\n",
    "        sess = sess['session'] if 'session' in sess else sess\n",
    "        uid = sess.setdefault('uid', str(uuid4()))\n",
    "        if uid in self.users: return self.users[uid]\n",
    "        return self.create(uid, name)"
   ]
  },
  {
   "cell_type": "code",
   "execution_count": null,
   "metadata": {},
   "outputs": [],
   "source": [
    "#| export\n",
    "def user_beforeware(manager: UserManager, skip=None):\n",
    "    '''Makes sure that request always contains valid user'''\n",
    "    def before(req: Request): req.state.user = manager.get_or_create(req)\n",
    "    return Beforeware(before, skip)"
   ]
  },
  {
   "cell_type": "code",
   "execution_count": null,
   "metadata": {},
   "outputs": [],
   "source": [
    "# | export\n",
    "\n",
    "def UserName(u: User, cls='username', **kwargs):\n",
    "    return Span(u.name, dt_user = u.uid, cls=cls, **kwargs, hx_swap_oob=f'outerHTML:span[dt-user=\"{u.uid}\"]')\n",
    "\n",
    "def NameSetting():\n",
    "    return Div(\n",
    "        I('edit', cls=\"material-icons settings\",),\n",
    "        Form(Input(type='hidden', name='name'), hx_put='/name', hx_swap='none'),\n",
    "        _=r\"\"\"on click get prompt('Enter your name')\n",
    "                 if it != null then if it.trim() != \"\" then set x to it\n",
    "                 make RegExp from '\\\\s+', 'g' called myregx\n",
    "                 set x to x.replace(myregx, ' ').trim() then log x\n",
    "                 put x into @value of <form input/> in me then trigger submit on <form/> in me\n",
    "                 \"\"\")"
   ]
  },
  {
   "cell_type": "code",
   "execution_count": null,
   "metadata": {},
   "outputs": [],
   "source": [
    "db = init_db()\n",
    "user_manager = UserManager(db)\n",
    "bware = user_beforeware(user_manager)"
   ]
  },
  {
   "cell_type": "code",
   "execution_count": null,
   "metadata": {},
   "outputs": [],
   "source": [
    "hdrs = [\n",
    "    Script(src=\"https://unpkg.com/hyperscript.org@0.9.13\"),\n",
    "    Link(rel=\"stylesheet\", href=\"https://fonts.googleapis.com/icon?family=Material+Icons\"),\n",
    "    Style('''\n",
    "          .settings:hover {\n",
    "              background-color: lightgreen;\n",
    "              cursor: pointer;\n",
    "          }\n",
    "          ''')\n",
    "]\n",
    "app, rt = fast_app(pico=False, before=bware, hdrs=hdrs)"
   ]
  },
  {
   "cell_type": "code",
   "execution_count": null,
   "metadata": {},
   "outputs": [],
   "source": [
    "@rt\n",
    "def index(req: Request):\n",
    "    return Titled(f\"Hello {req.state.user.name}!\", NameSetting())"
   ]
  },
  {
   "cell_type": "code",
   "execution_count": null,
   "metadata": {},
   "outputs": [
    {
     "data": {
      "text/html": [
       "\n",
       "<script>\n",
       "document.body.addEventListener('htmx:configRequest', (event) => {\n",
       "    if(event.detail.path.includes('://')) return;\n",
       "    htmx.config.selfRequestsOnly=false;\n",
       "    event.detail.path = `${location.protocol}//${location.hostname}:8000${event.detail.path}`;\n",
       "});\n",
       "</script>"
      ],
      "text/plain": [
       "<IPython.core.display.HTML object>"
      ]
     },
     "metadata": {},
     "output_type": "display_data"
    }
   ],
   "source": [
    "server = JupyUvi(app)"
   ]
  },
  {
   "cell_type": "code",
   "execution_count": null,
   "metadata": {},
   "outputs": [],
   "source": [
    "server.stop()"
   ]
  }
 ],
 "metadata": {
  "kernelspec": {
   "display_name": "python3",
   "language": "python",
   "name": "python3"
  }
 },
 "nbformat": 4,
 "nbformat_minor": 2
}

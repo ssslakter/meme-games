{
 "cells": [
  {
   "cell_type": "code",
   "execution_count": null,
   "metadata": {},
   "outputs": [],
   "source": [
    "#| default_exp domain.user"
   ]
  },
  {
   "cell_type": "code",
   "execution_count": null,
   "metadata": {},
   "outputs": [],
   "source": [
    "#| export\n",
    "import time\n",
    "from dataclasses import dataclass\n",
    "import fastlite as fl\n",
    "from meme_games.core import *"
   ]
  },
  {
   "cell_type": "code",
   "execution_count": null,
   "metadata": {},
   "outputs": [],
   "source": [
    "\n",
    "# | export\n",
    "@dataclass\n",
    "class User(Model):\n",
    "    uid: str\n",
    "    name: str\n",
    "    avatar: Optional[str] = None\n",
    "\n",
    "    async def set_picture(self, file: UploadFile, content_path='./user-content'):\n",
    "        \"\"\"Sets the user's profile picture.\"\"\"\n",
    "        self.reset_picture(content_path)\n",
    "        fname = f\"{self.uid}_{time.time()}.{file.filename.split('.')[-1]}\"\n",
    "        dir = Path(content_path)\n",
    "        dir.mkdir(parents=True, exist_ok=True)\n",
    "        with open(dir/fname, 'wb') as f: f.write(await file.read())\n",
    "        self.avatar = str(fname)\n",
    "\n",
    "    def reset_picture(self, content_path='./user-content'):\n",
    "        \"\"\"Removes the user's profile picture.\"\"\"\n",
    "        if not self.avatar: return\n",
    "        path = Path(content_path)/self.avatar\n",
    "        path.unlink(missing_ok=True)\n",
    "        self.avatar = None\n",
    "        \n",
    "    def __eq__(self, value: 'User'): return self.uid == value.uid"
   ]
  },
  {
   "cell_type": "code",
   "execution_count": null,
   "metadata": {},
   "outputs": [],
   "source": [
    "#| export\n",
    "class UserManager(DataManager):\n",
    "    \"\"\"Manages user data and database operations.\"\"\"\n",
    "    def _set_tables(self): \n",
    "        self.db.create_table('user', User.columns(), pk='uid', transform=True)\n",
    "        self.db.t.user.cls = User\n",
    "        self.users: fl.Table = self.db.t.user\n",
    "        return self.users\n",
    "    \n",
    "    def create(self, uid: str=None, name: str = 'null'):\n",
    "        u = User(uid or random_id(), name)\n",
    "        self.users.insert(u)\n",
    "        return u\n",
    "    \n",
    "    def get(self, uid: str) -> User: return self.users.get(uid)\n",
    "    def update(self, user: User) -> User: return self.users.update(user)\n",
    "    \n",
    "    def get_or_create(self, sess: dict, name: str = 'null') -> User:\n",
    "        \"\"\"Gets a user from the database or creates a new one based on the session.\"\"\"\n",
    "        sess = sess['session'] if 'session' in sess else sess\n",
    "        uid = sess.setdefault('uid', random_id())\n",
    "        if uid in self.users: return self.users[uid]\n",
    "        return self.create(uid, name)"
   ]
  },
  {
   "cell_type": "code",
   "execution_count": null,
   "metadata": {},
   "outputs": [],
   "source": [
    "#|export\n",
    "DI.register_service(UserManager)"
   ]
  },
  {
   "cell_type": "code",
   "execution_count": null,
   "metadata": {},
   "outputs": [],
   "source": [
    "#| export\n",
    "def user_beforeware(manager: UserManager, skip=None):\n",
    "    '''Makes sure that request always contains valid user'''\n",
    "    def before(req: Request): req.state.user = manager.get_or_create(req.session)\n",
    "    return Beforeware(before, skip)"
   ]
  },
  {
   "cell_type": "code",
   "execution_count": null,
   "metadata": {},
   "outputs": [],
   "source": [
    "db = init_db()\n",
    "user_manager = UserManager(db)\n",
    "bware = user_beforeware(user_manager)"
   ]
  },
  {
   "cell_type": "code",
   "execution_count": null,
   "metadata": {},
   "outputs": [],
   "source": [
    "hdrs = [\n",
    "    Script(src=\"https://unpkg.com/hyperscript.org@0.9.13\"),\n",
    "    Link(rel=\"stylesheet\", href=\"https://fonts.googleapis.com/icon?family=Material+Icons\")\n",
    "]\n",
    "app, rt = fast_app(pico=False, before=bware, hdrs=hdrs)"
   ]
  },
  {
   "cell_type": "code",
   "execution_count": null,
   "metadata": {},
   "outputs": [
    {
     "data": {
      "text/html": [
       "\n",
       "<script>\n",
       "document.body.addEventListener('htmx:configRequest', (event) => {\n",
       "    if(event.detail.path.includes('://')) return;\n",
       "    htmx.config.selfRequestsOnly=false;\n",
       "    event.detail.path = `${location.protocol}//${location.hostname}:8000${event.detail.path}`;\n",
       "});\n",
       "</script>"
      ],
      "text/plain": [
       "<IPython.core.display.HTML object>"
      ]
     },
     "metadata": {},
     "output_type": "display_data"
    }
   ],
   "source": [
    "server = JupyUvi(app)"
   ]
  },
  {
   "cell_type": "code",
   "execution_count": null,
   "metadata": {},
   "outputs": [],
   "source": [
    "server.stop()"
   ]
  }
 ],
 "metadata": {
  "kernelspec": {
   "display_name": "python3",
   "language": "python",
   "name": "python3"
  }
 },
 "nbformat": 4,
 "nbformat_minor": 2
}

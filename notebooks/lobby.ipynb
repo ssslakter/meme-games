{
 "cells": [
  {
   "cell_type": "code",
   "execution_count": null,
   "metadata": {},
   "outputs": [],
   "source": [
    "# | default_exp lobby"
   ]
  },
  {
   "cell_type": "code",
   "execution_count": null,
   "metadata": {},
   "outputs": [],
   "source": [
    "# | export\n",
    "from typing import TypeVar, Generic, Type\n",
    "import datetime as dt\n",
    "import logging\n",
    "from dataclasses import field\n",
    "import random, string\n",
    "import fastcore.all as fc\n",
    "from fasthtml.common import *\n",
    "from meme_games.utils import *\n",
    "from meme_games.user import *"
   ]
  },
  {
   "cell_type": "code",
   "execution_count": null,
   "metadata": {},
   "outputs": [],
   "source": [
    "#| export\n",
    "logger = logging.getLogger(__name__)"
   ]
  },
  {
   "cell_type": "code",
   "execution_count": null,
   "metadata": {},
   "outputs": [],
   "source": [
    "# | export\n",
    "\n",
    "@dataclass\n",
    "class BaseLobbyMember:\n",
    "    user: User\n",
    "    ws: Optional[FunctionType] = None\n",
    "    joined_at: dt.datetime = field(default_factory=dt.datetime.now)\n",
    "    score: int = 0\n",
    "\n",
    "    def __getattr__(self, name): return getattr(self.user, name)\n",
    "    def connect(self, ws: FunctionType): self.ws = ws\n",
    "    def disconnect(self): self.ws = None\n",
    "    def add_score(self, score: int): self.score += score\n",
    "    def reset_score(self): self.score = 0\n",
    "    def sync_user(self, u: User): self.user = u\n",
    "\n",
    "    @property\n",
    "    def is_connected(self): return self.ws is not None"
   ]
  },
  {
   "cell_type": "code",
   "execution_count": null,
   "metadata": {},
   "outputs": [],
   "source": [
    "# | export\n",
    "\n",
    "TMember = TypeVar('TMember', bound=BaseLobbyMember)\n",
    "\n",
    "\n",
    "@dataclass\n",
    "class BaseLobby(Generic[TMember]):\n",
    "    id: str\n",
    "    host: TMember\n",
    "    members: dict[str, TMember] = field(default_factory=dict)\n",
    "    last_active: dt.datetime = field(default_factory=dt.datetime.now)\n",
    "\n",
    "    def __post_init__(self):\n",
    "        if self.host.uid not in self.members:\n",
    "            self.members[self.host.uid] = self.host\n",
    "\n",
    "    @classmethod\n",
    "    def create_member(cls, user: User, ws: FunctionType = None, **kwargs):\n",
    "        return BaseLobbyMember(user, ws=ws, **kwargs)\n",
    "    \n",
    "    def add_member(self, user: User, ws: FunctionType = None, **kwargs):\n",
    "        self.last_active = dt.datetime.now()\n",
    "        m = self.create_member(user, ws=ws, **kwargs)\n",
    "        self.members[user.uid] = m\n",
    "        return m\n",
    "\n",
    "    def get_member(self, uid: str) -> Optional[TMember]:\n",
    "        self.last_active = dt.datetime.now()\n",
    "        return self.members.get(uid)\n",
    "\n",
    "    @fc.delegates(create_member)\n",
    "    def get_or_create_member(self, user: User, **kwargs):\n",
    "        self.last_active = dt.datetime.now()\n",
    "        u = self.members.setdefault(user.uid, self.create_member(user, **kwargs))\n",
    "        return u\n",
    "\n",
    "    @classmethod\n",
    "    def new(cls, id: str, host: User) -> 'BaseLobby':\n",
    "        host = cls.create_member(host)\n",
    "        return cls(id, host)\n",
    "\n",
    "class Lobby(BaseLobby[BaseLobbyMember]): pass"
   ]
  },
  {
   "cell_type": "code",
   "execution_count": null,
   "metadata": {},
   "outputs": [],
   "source": [
    "# | export\n",
    "\n",
    "TLobby = TypeVar('TLobby', bound=BaseLobby)\n",
    "\n",
    "class LobbyManager(Generic[TLobby]):\n",
    "    lobby_lifetime = dt.timedelta(days=1)\n",
    "\n",
    "    def __init__(self):\n",
    "        self.lobbies = {}\n",
    "\n",
    "    def __repr__(self): return f'{self.__class__.__name__}(active_lobbies={len(self.lobbies)})'\n",
    "\n",
    "    def create_lobby(self, u: User, lobby_cls: TLobby, lobby_id: Optional[str] = None):\n",
    "        lobby_id = lobby_id or random_id()\n",
    "        while lobby_id in self.lobbies: lobby_id = random_id()\n",
    "        lobby = lobby_cls.new(lobby_id, u)\n",
    "        self.lobbies[lobby_id] = lobby\n",
    "        return lobby\n",
    "\n",
    "    def get_lobby(self, id: Optional[str] = None, lobby_cls: Type[TLobby] = BaseLobby) -> Optional[Lobby]:\n",
    "        lobby = self.lobbies.get(id)\n",
    "        if lobby and isinstance(lobby, lobby_cls): return lobby\n",
    "        return\n",
    "    \n",
    "    def delete_lobby(self, id: str): self.lobbies.pop(id)\n",
    "\n",
    "    def get_or_create(self, u: User, id: Optional[str] = None, lobby_cls: TLobby = BaseLobby) -> tuple[Lobby, bool]:\n",
    "        '''Returns the lobby if it exists, otherwise creates one if id was valid. Returns (lobby, created)'''\n",
    "        if not id or not id.isascii(): raise HTTPException(400, 'Invalid lobby id') \n",
    "        if lobby := self.get_lobby(id, lobby_cls): return lobby, False\n",
    "        return self.create_lobby(u, lobby_cls, id), True"
   ]
  },
  {
   "cell_type": "code",
   "execution_count": null,
   "metadata": {},
   "outputs": [],
   "source": [
    "db = init_db()\n",
    "user_manager = UserManager(db)\n",
    "user = user_manager.create()\n",
    "manager = LobbyManager()"
   ]
  },
  {
   "cell_type": "code",
   "execution_count": null,
   "metadata": {},
   "outputs": [],
   "source": [
    "lobby = manager.create_lobby(user)"
   ]
  },
  {
   "cell_type": "markdown",
   "metadata": {},
   "source": [
    "## Views"
   ]
  },
  {
   "cell_type": "code",
   "execution_count": null,
   "metadata": {},
   "outputs": [],
   "source": [
    "# | export\n",
    "def Members(lobby: BaseLobby):\n",
    "    return Table(\n",
    "        Tr(Th('Name'), Th('id'), Th('Is connected')),\n",
    "        *[Tr(Td(UserName(member.user)), Td(member.uid), Td(member.is_connected)) for member in lobby.members.values()],\n",
    "        id='members'\n",
    "    )"
   ]
  }
 ],
 "metadata": {
  "kernelspec": {
   "display_name": "python3",
   "language": "python",
   "name": "python3"
  }
 },
 "nbformat": 4,
 "nbformat_minor": 2
}

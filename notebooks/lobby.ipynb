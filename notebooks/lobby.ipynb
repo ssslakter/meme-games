{
 "cells": [
  {
   "cell_type": "code",
   "execution_count": null,
   "metadata": {},
   "outputs": [],
   "source": [
    "# | default_exp common.lobby"
   ]
  },
  {
   "cell_type": "code",
   "execution_count": null,
   "metadata": {},
   "outputs": [],
   "source": [
    "# | export\n",
    "from typing import TypeVar, Generic, Type\n",
    "import datetime as dt\n",
    "import logging, dataclasses\n",
    "from dataclasses import field\n",
    "import random, string\n",
    "import fastcore.all as fc\n",
    "from fasthtml.common import *\n",
    "from meme_games.common.utils import *\n",
    "from meme_games.common.database import *\n",
    "from meme_games.common.user import *"
   ]
  },
  {
   "cell_type": "code",
   "execution_count": null,
   "metadata": {},
   "outputs": [],
   "source": [
    "#| export\n",
    "logger = logging.getLogger(__name__)"
   ]
  },
  {
   "cell_type": "code",
   "execution_count": null,
   "metadata": {},
   "outputs": [],
   "source": [
    "#| export\n",
    "@dataclass\n",
    "class GameData(Model):\n",
    "    member_id: str = None"
   ]
  },
  {
   "cell_type": "code",
   "execution_count": null,
   "metadata": {},
   "outputs": [],
   "source": [
    "# | export\n",
    "\n",
    "@dataclass\n",
    "class LobbyMember(fc.GetAttr, Model):\n",
    "    _ignore = ('user', 'send', 'ws')\n",
    "    _default = 'user'\n",
    "\n",
    "    user: User = None\n",
    "    user_uid: str = None\n",
    "    lobby_id: str = None\n",
    "    is_player: bool = False\n",
    "    is_host_: bool = False\n",
    "    joined_at: dt.datetime = field(default_factory=dt.datetime.now)\n",
    "    score: int = 0\n",
    "    id: str = field(default_factory=lambda: random_id(8))\n",
    "\n",
    "    send: Optional[FunctionType] = None\n",
    "    ws: Optional[WebSocket] = None\n",
    "    \n",
    "    def __post_init__(self):\n",
    "        if self.user: self.user_uid = self.user.uid\n",
    "        if isinstance(self.joined_at, str): \n",
    "            self.joined_at = dt.datetime.fromisoformat(self.joined_at)\n",
    "            \n",
    "\n",
    "    def spectate(self): self.is_player = False\n",
    "\n",
    "    def play(self):\n",
    "        self.joined_at = dt.datetime.now()\n",
    "        self.is_player = True\n",
    "\n",
    "    def connect(self, send: FunctionType, ws: Optional[WebSocket] = None): self.send, self.ws = send, ws\n",
    "    def disconnect(self): self.send, self.ws = None, None\n",
    "    def add_score(self, score: int): self.score += score\n",
    "    def reset_score(self): self.score = 0\n",
    "    def sync_user(self, u: User): self.user = u\n",
    "\n",
    "    @property\n",
    "    def is_connected(self): return self.send is not None\n",
    "    @property\n",
    "    def is_host(self): return self.is_host_\n",
    "\n",
    "    def __eq__(self, other: Union[User, 'LobbyMember']): return self.uid == other.uid\n",
    "    \n",
    "    @classmethod\n",
    "    def from_cols(cls, data: dict):\n",
    "        data = cols2dict(data)\n",
    "        data[cls]['user'] = User.from_cols(data.pop(User))\n",
    "        return super().from_cols(data[cls])\n",
    "    \n",
    "    @classmethod\n",
    "    def convert(cls, member: Optional['LobbyMember'] = None): \n",
    "        if member: return cls(**asdict(member))\n",
    "        \n",
    "    def update_user(self, u: User): self.user = u\n"
   ]
  },
  {
   "cell_type": "code",
   "execution_count": null,
   "metadata": {},
   "outputs": [],
   "source": [
    "# | export\n",
    "class MemberManager(DataManager[LobbyMember]):\n",
    "\n",
    "    def __init__(self, user_manager: UserManager):\n",
    "        self.um, self.users = user_manager, user_manager.users\n",
    "        super().__init__(self.um.db)\n",
    "\n",
    "    def _set_tables(self):\n",
    "        self.members: fl.Table = self.db.t.members.create(**LobbyMember.columns(), pk='id',\n",
    "                                                          transform=True, if_not_exists=True)\n",
    "        self.members.add_foreign_key('user_uid', 'user', 'uid', ignore=True)\n",
    "        return self.members\n",
    "\n",
    "    def update(self, member: LobbyMember):\n",
    "        self.um.update(member.user)\n",
    "        return super().update(member)\n",
    "\n",
    "    def get_all(self, lobby_id: str) -> list[LobbyMember]:\n",
    "        cols = self.members.c\n",
    "        qry = f\"\"\"select {mk_aliases(LobbyMember, self.members)},\n",
    "                  {mk_aliases(User, self.users)}\n",
    "                  from {self.members} join {self.users}\n",
    "                  on {cols.user_uid} = {self.users.c.uid} where {cols.lobby_id} = ?\"\"\"\n",
    "        return list(map(LobbyMember.from_cols, self.db.q(qry, [lobby_id])))"
   ]
  },
  {
   "cell_type": "code",
   "execution_count": null,
   "metadata": {},
   "outputs": [],
   "source": [
    "db = init_db()\n",
    "um = UserManager(db)\n",
    "mm = MemberManager(um)\n"
   ]
  },
  {
   "cell_type": "code",
   "execution_count": null,
   "metadata": {},
   "outputs": [
    {
     "data": {
      "text/plain": [
       "LobbyMember(user=User(uid='5gdw9', name='null', filename='hi'), user_uid='5gdw9', lobby_id=None, is_player=False, is_host_=False, joined_at=datetime.datetime(2025, 1, 19, 0, 35, 15, 988262), score=0, id='ahxulzof', send=None, ws=None)"
      ]
     },
     "execution_count": null,
     "metadata": {},
     "output_type": "execute_result"
    }
   ],
   "source": [
    "cols = LobbyMember(um.create())\n",
    "cols = mm.insert(cols)\n",
    "cols.user.filename = 'hi'\n",
    "mm.update(cols)"
   ]
  },
  {
   "cell_type": "code",
   "execution_count": null,
   "metadata": {},
   "outputs": [],
   "source": [
    "# | export\n",
    "\n",
    "@dataclass\n",
    "class Lobby[T: LobbyMember](Model):\n",
    "    _ignore = ('members', 'host', 'member_type')\n",
    "    \n",
    "    id: str = field(default_factory=random_id)\n",
    "    member_type: type[T] = LobbyMember\n",
    "    host: Optional[T] = None\n",
    "    members: dict[str, T] = field(default_factory=dict)\n",
    "    last_active: dt.datetime = field(default_factory=dt.datetime.now)\n",
    "\n",
    "    def __post_init__(self):\n",
    "        if self.host: self.host_uid = self.host.uid\n",
    "        if isinstance(self.last_active, str): \n",
    "            self.last_active = dt.datetime.fromisoformat(self.last_active)\n",
    "\n",
    "    def sorted_members(self):\n",
    "        '''lobby members sorted by `joined_at` date'''\n",
    "        for m in sorted(self.members.values(), key=lambda m: m.joined_at): yield m\n",
    "\n",
    "    def set_host(self, member: T): \n",
    "        if self.host: self.host.is_host_=False\n",
    "        member.is_host_ = True\n",
    "        self.host = member\n",
    "\n",
    "    def create_member(self, user: User, send: FunctionType = None, **kwargs) -> T:\n",
    "        '''Create a new member of type `member_type` and add to the lobby'''\n",
    "        self.last_active = dt.datetime.now()\n",
    "        m = self.member_type(user, send=send, lobby_id=self.id, **kwargs)\n",
    "        self.members[user.uid] = m\n",
    "        return m\n",
    "\n",
    "    def get_member(self, uid: str) -> Optional[T]:\n",
    "        self.last_active = dt.datetime.now()\n",
    "        return self.members.get(uid)\n",
    "\n",
    "    @fc.delegates(create_member)\n",
    "    def get_or_create_member(self, user: User, **kwargs) -> T:\n",
    "        '''get member from the lobby or create a new with `create_member`'''\n",
    "        self.last_active = dt.datetime.now()\n",
    "        m = self.members.get(user.uid)\n",
    "        if not m: m = self.create_member(user, **kwargs)\n",
    "        return m\n",
    "\n",
    "    def convert[T: LobbyMember](self: 'Lobby', member_type: type[T] = LobbyMember) -> 'Lobby[T]':\n",
    "        if self.member_type == member_type: return self\n",
    "        self.member_type = member_type\n",
    "        for k in self.members.keys(): self.members[k] = member_type.convert(self.members[k])\n",
    "        self.host = member_type.convert(self.host)\n",
    "        return self\n"
   ]
  },
  {
   "cell_type": "code",
   "execution_count": null,
   "metadata": {},
   "outputs": [],
   "source": [
    "# | export\n",
    "\n",
    "class LobbyManager(DataManager[Lobby]):\n",
    "\n",
    "    def __init__(self, member_manager: MemberManager):\n",
    "        self.mm = member_manager\n",
    "        super().__init__(self.mm.db)\n",
    "\n",
    "    def _set_tables(self):\n",
    "        self.lobbies: fl.Table = self.db.t.lobbies.create(**Lobby.columns(), pk='id',\n",
    "                                                          transform=True, if_not_exists=True)\n",
    "        return self.lobbies\n",
    "\n",
    "    def update(self, lobby: Lobby[LobbyMember]):\n",
    "        self.mm.upsert_all(lobby.members.values())\n",
    "        return super().update(lobby)\n",
    "\n",
    "    def get(self, id: str) -> Lobby[LobbyMember]:\n",
    "        if id not in self.lobbies: return\n",
    "        lobby = Lobby(**self.lobbies.get(id))\n",
    "        lobby.members = {m.user_uid: m for m in self.mm.get_all(id)}\n",
    "        hosts = [m for m in lobby.members.values() if m.is_host]\n",
    "        if hosts: lobby.host = hosts[0]\n",
    "        return lobby\n",
    "\n",
    "    def ids(self) -> list[str]: return [el['id'] for el in self.lobbies(select='id', as_cls=False)]"
   ]
  },
  {
   "cell_type": "code",
   "execution_count": null,
   "metadata": {},
   "outputs": [
    {
     "data": {
      "text/plain": [
       "Lobby(id='t42do', host=LobbyMember(user=User(uid='sfngj', name='null', filename=None), user_uid='sfngj', lobby_id='t42do', is_player=0, is_host_=1, joined_at=datetime.datetime(2025, 1, 19, 0, 35, 16, 37458), score=0, id='11tn0pia', send=None, ws=None), members={'e91xn': LobbyMember(user=User(uid='e91xn', name='null', filename=None), user_uid='e91xn', lobby_id='t42do', is_player=0, is_host_=0, joined_at=datetime.datetime(2025, 1, 19, 0, 35, 16, 37458), score=0, id='m572oyez', send=None, ws=None), 'sfngj': LobbyMember(user=User(uid='sfngj', name='null', filename=None), user_uid='sfngj', lobby_id='t42do', is_player=0, is_host_=1, joined_at=datetime.datetime(2025, 1, 19, 0, 35, 16, 37458), score=0, id='11tn0pia', send=None, ws=None)}, last_active=datetime.datetime(2025, 1, 19, 0, 35, 16, 37458))"
      ]
     },
     "execution_count": null,
     "metadata": {},
     "output_type": "execute_result"
    }
   ],
   "source": [
    "lm = LobbyManager(mm)\n",
    "l = lm.insert(Lobby())\n",
    "l.create_member(um.create())\n",
    "m = l.create_member(um.create())\n",
    "l.set_host(m)\n",
    "lm.update(l)\n",
    "lm.get(l.id)"
   ]
  },
  {
   "cell_type": "code",
   "execution_count": null,
   "metadata": {},
   "outputs": [],
   "source": [
    "# | export\n",
    "\n",
    "class LobbyService:\n",
    "    lobby_lifetime = dt.timedelta(hours=5)\n",
    "    lobby_limit = 50\n",
    "\n",
    "    def __init__(self, lobby_manager: LobbyManager):\n",
    "        self.lm = lobby_manager\n",
    "        self.lobbies: dict[str, Lobby] = {}\n",
    "\n",
    "    def __repr__(self): return f'{self.__class__.__name__}(active_lobbies={len(self.lobbies)})'\n",
    "\n",
    "    def create_lobby[T: LobbyMember](self, u: User, lobby_id: Optional[str] = None, member_type: type[T] = LobbyMember) -> Lobby[T]:\n",
    "        lobby_id = lobby_id or random_id()\n",
    "        ids = list(self.lobbies) + self.lm.ids()\n",
    "        while lobby_id in ids: lobby_id = random_id()\n",
    "        lobby = Lobby[member_type](lobby_id, member_type)\n",
    "        lobby.set_host(lobby.create_member(u))\n",
    "        self.lobbies[lobby_id] = lobby\n",
    "        self.lm.insert(lobby)\n",
    "        return lobby\n",
    "\n",
    "    def get_lobby(self, id: Optional[str] = None) -> Optional[Lobby]:\n",
    "        lobby = self.lobbies.get(id)\n",
    "        if lobby: return lobby\n",
    "        return self.lm.get(id)\n",
    "\n",
    "    def delete_lobby(self, id: str):\n",
    "        self.lobbies.pop(id)\n",
    "        self.lm.delete(id)\n",
    "\n",
    "    def get_or_create[T: LobbyMember](self, u: User, id: Optional[str] = None,\n",
    "                                      member_type: type[T] = LobbyMember) -> tuple[Lobby[T], bool]:\n",
    "        '''Returns the lobby if it exists, otherwise creates one if id was valid. Returns (lobby, created)'''\n",
    "        if not id or not id.isascii(): raise HTTPException(400, 'Invalid lobby id, must be ascii')\n",
    "        if lobby := self.get_lobby(id): return lobby.convert(member_type), False\n",
    "        if len(self.lobbies) >= self.lobby_limit: raise HTTPException(\n",
    "            400, 'Too many lobbies, wait until some are finished')\n",
    "        return self.create_lobby(u, id, member_type), True\n",
    "\n",
    "    def sync_active_lobbies_user(self, u: User):\n",
    "        for l in self.lobbies.values(): l.members[u.uid].update_user(u)"
   ]
  },
  {
   "cell_type": "code",
   "execution_count": null,
   "metadata": {},
   "outputs": [],
   "source": [
    "ls = LobbyService(lm)"
   ]
  },
  {
   "cell_type": "code",
   "execution_count": null,
   "metadata": {},
   "outputs": [
    {
     "data": {
      "text/plain": [
       "{1: Lobby(id=1, host=LobbyMember(user=User(uid='ivxwq', name='null', filename=UNSET), user_uid='ivxwq', lobby_id=1, is_player=False, is_host_=True, joined_at=datetime.datetime(2025, 1, 19, 0, 35, 16, 124552), score=0, id='wtzyeee0', send=None, ws=None), members={'ivxwq': LobbyMember(user=User(uid='ivxwq', name='null', filename=UNSET), user_uid='ivxwq', lobby_id=1, is_player=False, is_host_=True, joined_at=datetime.datetime(2025, 1, 19, 0, 35, 16, 124552), score=0, id='wtzyeee0', send=None, ws=None)}, last_active=datetime.datetime(2025, 1, 19, 0, 35, 16, 124552)),\n",
       " 2: Lobby(id=2, host=LobbyMember(user=User(uid='12b9m', name='null', filename=UNSET), user_uid='12b9m', lobby_id=2, is_player=False, is_host_=True, joined_at=datetime.datetime(2025, 1, 19, 0, 35, 16, 125555), score=0, id='dh1rkeuw', send=None, ws=None), members={'12b9m': LobbyMember(user=User(uid='12b9m', name='null', filename=UNSET), user_uid='12b9m', lobby_id=2, is_player=False, is_host_=True, joined_at=datetime.datetime(2025, 1, 19, 0, 35, 16, 125555), score=0, id='dh1rkeuw', send=None, ws=None)}, last_active=datetime.datetime(2025, 1, 19, 0, 35, 16, 125555))}"
      ]
     },
     "execution_count": null,
     "metadata": {},
     "output_type": "execute_result"
    }
   ],
   "source": [
    "ls.create_lobby(um.create(), 1)\n",
    "ls.create_lobby(um.create(), 2)\n",
    "ls.lobbies"
   ]
  },
  {
   "cell_type": "code",
   "execution_count": null,
   "metadata": {},
   "outputs": [
    {
     "data": {
      "text/plain": [
       "{2: Lobby(id=2, host=LobbyMember(user=User(uid='12b9m', name='null', filename=UNSET), user_uid='12b9m', lobby_id=2, is_player=False, is_host_=True, joined_at=datetime.datetime(2025, 1, 19, 0, 35, 16, 125555), score=0, id='dh1rkeuw', send=None, ws=None), members={'12b9m': LobbyMember(user=User(uid='12b9m', name='null', filename=UNSET), user_uid='12b9m', lobby_id=2, is_player=False, is_host_=True, joined_at=datetime.datetime(2025, 1, 19, 0, 35, 16, 125555), score=0, id='dh1rkeuw', send=None, ws=None)}, last_active=datetime.datetime(2025, 1, 19, 0, 35, 16, 125555))}"
      ]
     },
     "execution_count": null,
     "metadata": {},
     "output_type": "execute_result"
    }
   ],
   "source": [
    "ls.delete_lobby(1)\n",
    "ls.lobbies"
   ]
  },
  {
   "cell_type": "code",
   "execution_count": null,
   "metadata": {},
   "outputs": [],
   "source": [
    "#| export\n",
    "def is_player(u: LobbyMember|User): return isinstance(u, LobbyMember) and u.is_player"
   ]
  },
  {
   "cell_type": "code",
   "execution_count": null,
   "metadata": {},
   "outputs": [],
   "source": [
    "#| export\n",
    "def lobby_beforeware(service: LobbyService, skip=None):\n",
    "    '''Makes sure that request always contains valid lobby'''\n",
    "    def before(req: Request):\n",
    "        u: User = req.state.user\n",
    "        path_lobby_id = req.path_params.get('lobby_id')\n",
    "        if path_lobby_id: req.session['lobby_id'] = path_lobby_id\n",
    "        lobby: Lobby = service.get_lobby(req.session.get(\"lobby_id\"))\n",
    "        if not lobby: raise HTTPException(404, 'Lobby not found')\n",
    "        req.state.lobby = lobby\n",
    "        \n",
    "    return Beforeware(before, skip)"
   ]
  },
  {
   "cell_type": "markdown",
   "metadata": {},
   "source": [
    "## Views"
   ]
  },
  {
   "cell_type": "code",
   "execution_count": null,
   "metadata": {},
   "outputs": [],
   "source": [
    "# | export\n",
    "def Members(r: User|LobbyMember, lobby: Lobby):\n",
    "    return Table(\n",
    "        Tr(Th('Name'), Th('id'), Th('Is connected')),\n",
    "        *[Tr(Td(UserName(r.user, member.user)), Td(member.uid), Td(member.is_connected)) for member in lobby.sorted_members()],\n",
    "        id='members'\n",
    "    )"
   ]
  }
 ],
 "metadata": {
  "kernelspec": {
   "display_name": "python3",
   "language": "python",
   "name": "python3"
  }
 },
 "nbformat": 4,
 "nbformat_minor": 2
}

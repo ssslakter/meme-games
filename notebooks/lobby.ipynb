{
 "cells": [
  {
   "cell_type": "code",
   "execution_count": null,
   "metadata": {},
   "outputs": [],
   "source": [
    "# | default_exp lobby"
   ]
  },
  {
   "cell_type": "code",
   "execution_count": null,
   "metadata": {},
   "outputs": [],
   "source": [
    "# | export\n",
    "import datetime as dt\n",
    "import logging\n",
    "from dataclasses import field\n",
    "import random, string\n",
    "from fasthtml.common import *\n",
    "from meme_games.utils import *\n",
    "from meme_games.user import *"
   ]
  },
  {
   "cell_type": "code",
   "execution_count": null,
   "metadata": {},
   "outputs": [],
   "source": [
    "#| export\n",
    "logger = logging.getLogger(__name__)"
   ]
  },
  {
   "cell_type": "code",
   "execution_count": null,
   "metadata": {},
   "outputs": [],
   "source": [
    "# | export\n",
    "def random_id(size=5): return ''.join(random.choices(string.ascii_lowercase+string.digits, k=size))"
   ]
  },
  {
   "cell_type": "code",
   "execution_count": null,
   "metadata": {},
   "outputs": [],
   "source": [
    "# | export\n",
    "\n",
    "@dataclass\n",
    "class LobbyMember:\n",
    "    user: User\n",
    "    ws: Optional[FunctionType] = None\n",
    "    joined_at: dt.datetime = field(default_factory=dt.datetime.now)\n",
    "\n",
    "    def __post_init__(self): self.uid = self.user.uid\n",
    "    def connect(self, ws): self.ws = ws\n",
    "\n",
    "    @property\n",
    "    def is_connected(self): return self.ws is not None\n",
    "\n",
    "\n",
    "@dataclass\n",
    "class Lobby:\n",
    "    id: str\n",
    "    host: LobbyMember\n",
    "    members: dict[str, LobbyMember] = field(default_factory=dict)\n",
    "    last_active: dt.datetime = field(default_factory=dt.datetime.now)\n",
    "\n",
    "    def __post_init__(self):\n",
    "        if self.host.uid not in self.members:\n",
    "            self.members[self.host.uid] = self.host\n",
    "\n",
    "    def get_or_create_member(self, user: User, ws: FunctionType = None):\n",
    "        u = self.members.setdefault(user.uid, LobbyMember(user))\n",
    "        u.ws = ws\n",
    "        return u"
   ]
  },
  {
   "cell_type": "code",
   "execution_count": null,
   "metadata": {},
   "outputs": [],
   "source": [
    "# | export\n",
    "\n",
    "class LobbyManager:\n",
    "    def __init__(self):\n",
    "        self.lobbies = {}\n",
    "\n",
    "    def __repr__(self): return f'{self.__class__.__name__}(active_lobbies={len(self.lobbies)})'\n",
    "\n",
    "    def create_lobby(self, u: User):\n",
    "        lobby_id = random_id()\n",
    "        while lobby_id in self.lobbies:\n",
    "            lobby_id = random_id()\n",
    "        lobby = Lobby(lobby_id, LobbyMember(u))\n",
    "        self.lobbies[lobby_id] = lobby\n",
    "        return lobby\n",
    "\n",
    "    def get_lobby(self, id: Optional[str] = None) -> Optional[Lobby]: return self.lobbies.get(id)\n",
    "    def delete_lobby(self, id: str): self.lobbies.pop(id)"
   ]
  },
  {
   "cell_type": "code",
   "execution_count": null,
   "metadata": {},
   "outputs": [],
   "source": [
    "db = init_db()\n",
    "user_manager = UserManager(db)\n",
    "user = user_manager.create()\n",
    "manager = LobbyManager()"
   ]
  },
  {
   "cell_type": "code",
   "execution_count": null,
   "metadata": {},
   "outputs": [],
   "source": [
    "lobby = manager.create_lobby(user)"
   ]
  },
  {
   "cell_type": "markdown",
   "metadata": {},
   "source": [
    "## Views"
   ]
  },
  {
   "cell_type": "code",
   "execution_count": null,
   "metadata": {},
   "outputs": [],
   "source": [
    "# | export\n",
    "def Members(lobby: Lobby):\n",
    "    return Table(\n",
    "        Tr(Th('Name'), Th('id'), Th('Is connected')),\n",
    "        *[Tr(Td(UserName(member.user)), Td(member.uid), Td(member.is_connected)) for member in lobby.members.values()],\n",
    "        id='members'\n",
    "    )"
   ]
  }
 ],
 "metadata": {
  "kernelspec": {
   "display_name": "python3",
   "language": "python",
   "name": "python3"
  }
 },
 "nbformat": 4,
 "nbformat_minor": 2
}

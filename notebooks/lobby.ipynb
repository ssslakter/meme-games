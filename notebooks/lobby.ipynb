{
 "cells": [
  {
   "cell_type": "code",
   "execution_count": null,
   "metadata": {},
   "outputs": [],
   "source": [
    "# | default_exp common.lobby"
   ]
  },
  {
   "cell_type": "code",
   "execution_count": null,
   "metadata": {},
   "outputs": [],
   "source": [
    "# | export\n",
    "from typing import TypeVar, Generic, Type\n",
    "import datetime as dt\n",
    "import logging, dataclasses\n",
    "from dataclasses import field\n",
    "import random, string\n",
    "import fastcore.all as fc\n",
    "from fasthtml.common import *\n",
    "from meme_games.common.utils import *\n",
    "from meme_games.common.database import *\n",
    "from meme_games.common.user import *"
   ]
  },
  {
   "cell_type": "code",
   "execution_count": null,
   "metadata": {},
   "outputs": [],
   "source": [
    "#| export\n",
    "logger = logging.getLogger(__name__)"
   ]
  },
  {
   "cell_type": "code",
   "execution_count": null,
   "metadata": {},
   "outputs": [],
   "source": [
    "# | export\n",
    "\n",
    "@dataclass\n",
    "class LobbyMember(fc.GetAttr, Model):\n",
    "    _ignore = ('user', 'send', 'ws')\n",
    "    _default = 'user'\n",
    "\n",
    "    user: User = None\n",
    "    user_uid: str = None\n",
    "    lobby_id: str = None\n",
    "    is_player: bool = False\n",
    "    is_host_: bool = False\n",
    "    joined_at: dt.datetime = field(default_factory=dt.datetime.now)\n",
    "    score: int = 0\n",
    "    id: str = field(default_factory=lambda: random_id(8))\n",
    "\n",
    "    send: Optional[FunctionType] = None\n",
    "    ws: Optional[WebSocket] = None\n",
    "    \n",
    "    def __post_init__(self):\n",
    "        if self.user: self.user_uid = self.user.uid\n",
    "        if isinstance(self.joined_at, str): \n",
    "            self.joined_at = dt.datetime.fromisoformat(self.joined_at)\n",
    "\n",
    "    def spectate(self): self.is_player = False\n",
    "\n",
    "    def play(self):\n",
    "        self.joined_at = dt.datetime.now()\n",
    "        self.is_player = True\n",
    "\n",
    "    def connect(self, send: FunctionType, ws: Optional[WebSocket] = None): self.send, self.ws = send, ws\n",
    "    def disconnect(self): self.send, self.ws = None, None\n",
    "    def add_score(self, score: int): self.score += score\n",
    "    def reset_score(self): self.score = 0\n",
    "    def sync_user(self, u: User): self.user = u\n",
    "\n",
    "    @property\n",
    "    def is_connected(self): return self.send is not None\n",
    "    @property\n",
    "    def is_host(self): return self.is_host_\n",
    "\n",
    "    def __eq__(self, other: Union[User, 'LobbyMember']): return self.uid == other.uid\n"
   ]
  },
  {
   "cell_type": "code",
   "execution_count": null,
   "metadata": {},
   "outputs": [],
   "source": [
    "# | export\n",
    "\n",
    "@dataclass\n",
    "class Lobby(Model):\n",
    "    _ignore = ('members', 'host')\n",
    "    \n",
    "    id: str\n",
    "    host: Optional[LobbyMember] = None\n",
    "    members: dict[str, LobbyMember] = field(default_factory=dict)\n",
    "    last_active: dt.datetime = field(default_factory=dt.datetime.now)\n",
    "\n",
    "    def __post_init__(self):\n",
    "        if self.host: self.host_uid = self.host.uid\n",
    "\n",
    "    def sorted_members(self):\n",
    "        for m in sorted(self.members.values(), key=lambda m: m.joined_at): yield m\n",
    "\n",
    "    def set_host(self, member: LobbyMember): \n",
    "        if self.host: self.host.is_host_=False\n",
    "        member.is_host_ = True\n",
    "        self.host = member\n",
    "\n",
    "    def create_member(self, user: User, send: FunctionType = None, **kwargs) -> LobbyMember:\n",
    "        self.last_active = dt.datetime.now()\n",
    "        m = LobbyMember(user, send=send, lobby_id=self.id, **kwargs)\n",
    "        self.members[user.uid] = m\n",
    "        return m\n",
    "\n",
    "    def get_member(self, uid: str) -> Optional[LobbyMember]:\n",
    "        self.last_active = dt.datetime.now()\n",
    "        return self.members.get(uid)\n",
    "\n",
    "    @fc.delegates(create_member)\n",
    "    def get_or_create_member(self, user: User, **kwargs) -> LobbyMember:\n",
    "        self.last_active = dt.datetime.now()\n",
    "        m = self.members.get(user.uid)\n",
    "        if not m: m = self.create_member(user, **kwargs)\n",
    "        return m\n"
   ]
  },
  {
   "cell_type": "code",
   "execution_count": null,
   "metadata": {},
   "outputs": [],
   "source": [
    "# | export\n",
    "class MemberRepo(DataManager):\n",
    "\n",
    "    def __init__(self, db, user_manager: UserManager):\n",
    "        self.um, self.users = user_manager, user_manager.users\n",
    "        super().__init__(db)\n",
    "\n",
    "    def _set_tables(self):\n",
    "        self.members = self.db.t.members.create(**LobbyMember.columns(), pk='id')\n",
    "        self.members.add_foreign_key('user_uid', 'user', 'uid')\n",
    "        self.members.cls = LobbyMember\n",
    "\n",
    "    def insert(self, member: LobbyMember): self.members.insert(member); return member\n",
    "    def update(self, member: LobbyMember): self.members.update(member); return member\n",
    "    def get(self, lobby_id: str): \n",
    "        m = self.members.c\n",
    "        qry = f\"\"\"select {mk_aliases(LobbyMember, self.members)},\n",
    "                  {mk_aliases(User, self.users)}\n",
    "                  from {self.members} join {self.users} \n",
    "                  on {m.user_uid} = {self.users.c.uid} where {m.lobby_id} = ?\"\"\"\n",
    "        return list(fc.maps(cols2dict, self._to_member, self.db.q(qry, [lobby_id])))\n",
    "        \n",
    "    def _to_member(self, d: dict):\n",
    "        m, u = (globals()[k](**v) for k,v in d.items())\n",
    "        if isinstance(m, User): m,u = u,m\n",
    "        m.user = u\n",
    "        return m"
   ]
  },
  {
   "cell_type": "code",
   "execution_count": null,
   "metadata": {},
   "outputs": [],
   "source": [
    "#| export\n",
    "\n",
    "class LobbyRepo(DataManager):\n",
    "    def _set_tables(self):\n",
    "        self.lobbies = self.db.t.lobbies.create(**Lobby.columns(), pk='id')\n",
    "        self.lobbies.cls = Lobby\n",
    "        \n",
    "    def insert(self, lobby: Lobby):\n",
    "        pass"
   ]
  },
  {
   "cell_type": "code",
   "execution_count": null,
   "metadata": {},
   "outputs": [],
   "source": [
    "db = init_db()\n",
    "user_man = UserManager(db)\n",
    "m_repo = MemberRepo(db, user_man)\n",
    "repo = LobbyRepo(db)"
   ]
  },
  {
   "cell_type": "code",
   "execution_count": null,
   "metadata": {},
   "outputs": [
    {
     "data": {
      "text/plain": [
       "LobbyMember(user=User(uid='mc3ix', name='null', filename=UNSET), user_uid='mc3ix', lobby_id=123, is_player=False, is_host_=False, joined_at=datetime.datetime(2025, 1, 18, 5, 24, 17, 198849), score=0, id='woghxvjw', send=None, ws=None)"
      ]
     },
     "execution_count": null,
     "metadata": {},
     "output_type": "execute_result"
    }
   ],
   "source": [
    "lobby = Lobby(123)\n",
    "m = lobby.create_member(user_man.create())\n",
    "m_repo.insert(m)\n",
    "m = lobby.create_member(user_man.create())\n",
    "m_repo.insert(m)\n",
    "m = lobby.create_member(user_man.create())\n",
    "m_repo.insert(m)"
   ]
  },
  {
   "cell_type": "code",
   "execution_count": null,
   "metadata": {},
   "outputs": [
    {
     "data": {
      "text/plain": [
       "[LobbyMember(user=User(uid='o18h3', name='null', filename=None), user_uid='o18h3', lobby_id='123', is_player=0, is_host_=0, joined_at=datetime.datetime(2025, 1, 18, 5, 24, 17, 197849), score=0, id='z2fqv2m3', send=None, ws=None),\n",
       " LobbyMember(user=User(uid='1zgd9', name='null', filename=None), user_uid='1zgd9', lobby_id='123', is_player=0, is_host_=0, joined_at=datetime.datetime(2025, 1, 18, 5, 24, 17, 198849), score=0, id='btuf7mwr', send=None, ws=None),\n",
       " LobbyMember(user=User(uid='mc3ix', name='null', filename=None), user_uid='mc3ix', lobby_id='123', is_player=0, is_host_=0, joined_at=datetime.datetime(2025, 1, 18, 5, 24, 17, 198849), score=0, id='woghxvjw', send=None, ws=None)]"
      ]
     },
     "execution_count": null,
     "metadata": {},
     "output_type": "execute_result"
    }
   ],
   "source": [
    "m_repo.get(123)"
   ]
  },
  {
   "cell_type": "code",
   "execution_count": null,
   "metadata": {},
   "outputs": [],
   "source": [
    "ks = list(m_repo.get(123)[0].keys())\n",
    "k = ks[0]"
   ]
  },
  {
   "cell_type": "code",
   "execution_count": null,
   "metadata": {},
   "outputs": [
    {
     "data": {
      "text/plain": [
       "__main__.LobbyMember"
      ]
     },
     "execution_count": null,
     "metadata": {},
     "output_type": "execute_result"
    }
   ],
   "source": [
    "globals().get(k.split('.')[0])"
   ]
  },
  {
   "cell_type": "code",
   "execution_count": null,
   "metadata": {},
   "outputs": [],
   "source": [
    "# | export\n",
    "\n",
    "class LobbyManager:\n",
    "    lobby_lifetime = dt.timedelta(hours=5)\n",
    "    lobby_limit = 50\n",
    "\n",
    "    def __init__(self):\n",
    "        self.lobbies: dict[str, Lobby] = {}\n",
    "\n",
    "    def __repr__(self): return f'{self.__class__.__name__}(active_lobbies={len(self.lobbies)})'\n",
    "\n",
    "    def create_lobby(self, u: User, lobby_id: Optional[str] = None):\n",
    "        lobby_id = lobby_id or random_id()\n",
    "        while lobby_id in self.lobbies: lobby_id = random_id()\n",
    "        lobby = Lobby.new(lobby_id, u)\n",
    "        self.lobbies[lobby_id] = lobby\n",
    "        return lobby\n",
    "\n",
    "    def get_lobby(self, id: Optional[str] = None) -> Optional[Lobby]:\n",
    "        lobby = self.lobbies.get(id)\n",
    "        if lobby: return lobby\n",
    "    \n",
    "    def delete_lobby(self, id: str): self.lobbies.pop(id)\n",
    "\n",
    "    def get_or_create(self, u: User, id: Optional[str] = None) -> tuple[Lobby, bool]:\n",
    "        '''Returns the lobby if it exists, otherwise creates one if id was valid. Returns (lobby, created)'''\n",
    "        if not id or not id.isascii(): raise HTTPException(400, 'Invalid lobby id, must be ascii') \n",
    "        if lobby := self.get_lobby(id): return lobby, False\n",
    "        if len(self.lobbies) >= self.lobby_limit: raise HTTPException(400, 'Too many lobbies, wait until some are finished') \n",
    "        return self.create_lobby(u, id), True\n",
    "    \n",
    "    def sync_user_data(self, u: User):\n",
    "        for lobby in self.lobbies.values():\n",
    "            m: LobbyMember = lobby.members.get(u.uid)\n",
    "            if m: m.sync_user(u)"
   ]
  },
  {
   "cell_type": "code",
   "execution_count": null,
   "metadata": {},
   "outputs": [],
   "source": [
    "#| export\n",
    "def is_player(u: LobbyMember|User): return isinstance(u, LobbyMember) and u.is_player"
   ]
  },
  {
   "cell_type": "code",
   "execution_count": null,
   "metadata": {},
   "outputs": [],
   "source": [
    "#| export\n",
    "def lobby_beforeware(manager: LobbyManager, skip=None):\n",
    "    '''Makes sure that request always contains valid lobby'''\n",
    "    def before(req: Request):\n",
    "        u: User = req.state.user\n",
    "        path_lobby_id = req.path_params.get('lobby_id')\n",
    "        if path_lobby_id: req.session['lobby_id'] = path_lobby_id\n",
    "        lobby: Lobby = manager.get_lobby(req.session.get(\"lobby_id\"))\n",
    "        if not lobby: raise HTTPException(404, 'Lobby not found')\n",
    "        req.state.lobby = lobby\n",
    "        \n",
    "    return Beforeware(before, skip)"
   ]
  },
  {
   "cell_type": "code",
   "execution_count": null,
   "metadata": {},
   "outputs": [],
   "source": [
    "db = init_db()\n",
    "user_manager = UserManager(db)\n",
    "user = user_manager.create()\n",
    "manager = LobbyManager()"
   ]
  },
  {
   "cell_type": "code",
   "execution_count": null,
   "metadata": {},
   "outputs": [],
   "source": [
    "lobby = manager.create_lobby(user)"
   ]
  },
  {
   "cell_type": "markdown",
   "metadata": {},
   "source": [
    "## Views"
   ]
  },
  {
   "cell_type": "code",
   "execution_count": null,
   "metadata": {},
   "outputs": [],
   "source": [
    "# | export\n",
    "def Members(r: User|LobbyMember, lobby: Lobby):\n",
    "    return Table(\n",
    "        Tr(Th('Name'), Th('id'), Th('Is connected')),\n",
    "        *[Tr(Td(UserName(r.user, member.user)), Td(member.uid), Td(member.is_connected)) for member in lobby.sorted_members()],\n",
    "        id='members'\n",
    "    )"
   ]
  }
 ],
 "metadata": {
  "kernelspec": {
   "display_name": "python3",
   "language": "python",
   "name": "python3"
  }
 },
 "nbformat": 4,
 "nbformat_minor": 2
}

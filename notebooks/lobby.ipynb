{
 "cells": [
  {
   "cell_type": "code",
   "execution_count": null,
   "metadata": {},
   "outputs": [],
   "source": [
    "# | default_exp common.lobby"
   ]
  },
  {
   "cell_type": "code",
   "execution_count": null,
   "metadata": {},
   "outputs": [],
   "source": [
    "# | export\n",
    "from typing import get_args\n",
    "import datetime as dt\n",
    "import logging, dataclasses\n",
    "from dataclasses import field\n",
    "import random, string\n",
    "import fastcore.all as fc\n",
    "from fasthtml.common import *\n",
    "from meme_games.common.utils import *\n",
    "from meme_games.common.database import *\n",
    "from meme_games.common.user import *"
   ]
  },
  {
   "cell_type": "code",
   "execution_count": null,
   "metadata": {},
   "outputs": [],
   "source": [
    "#| export\n",
    "logger = logging.getLogger(__name__)"
   ]
  },
  {
   "cell_type": "code",
   "execution_count": null,
   "metadata": {},
   "outputs": [],
   "source": [
    "#| export\n",
    "@dataclass\n",
    "class GameData(Model):\n",
    "    member_id: str = None"
   ]
  },
  {
   "cell_type": "code",
   "execution_count": null,
   "metadata": {},
   "outputs": [],
   "source": [
    "# | export\n",
    "\n",
    "@dataclass\n",
    "class LobbyMember(fc.GetAttr, Model):\n",
    "    _lobby_type = 'basic'\n",
    "    _ignore = ('user', 'send', 'ws')\n",
    "    _default = 'user'\n",
    "\n",
    "    user: User = None\n",
    "    user_uid: str = None\n",
    "    lobby_id: str = None\n",
    "    is_player: bool = False\n",
    "    is_host_: bool = False\n",
    "    joined_at: dt.datetime = field(default_factory=dt.datetime.now)\n",
    "    score: int = 0\n",
    "    id: str = field(default_factory=lambda: random_id(8))\n",
    "\n",
    "    send: Optional[FunctionType] = None\n",
    "    ws: Optional[WebSocket] = None\n",
    "\n",
    "    def __post_init__(self):\n",
    "        if self.user: self.user_uid = self.user.uid\n",
    "        if isinstance(self.joined_at, str):\n",
    "            self.joined_at = dt.datetime.fromisoformat(self.joined_at)\n",
    "\n",
    "    def __init_subclass__(cls, **kwargs):\n",
    "        super().__init_subclass__(**kwargs)\n",
    "        assert cls._lobby_type != LobbyMember._lobby_type, f\"You must set different `_lobby_type` from '{LobbyMember._lobby_type}'\"\n",
    "        LOBBY_REGISTRY[cls._lobby_type] = cls\n",
    "\n",
    "    def spectate(self): self.is_player = False\n",
    "\n",
    "    def play(self):\n",
    "        self.joined_at = dt.datetime.now()\n",
    "        self.is_player = True\n",
    "\n",
    "    def connect(self, send: FunctionType, ws: Optional[WebSocket] = None): self.send, self.ws = send, ws\n",
    "    def disconnect(self): self.send, self.ws = None, None\n",
    "    def add_score(self, score: int): self.score += score\n",
    "    def reset_score(self): self.score = 0\n",
    "    def sync_user(self, u: User): self.user = u\n",
    "\n",
    "    @property\n",
    "    def is_connected(self): return self.send is not None\n",
    "    @property\n",
    "    def is_host(self): return self.is_host_\n",
    "\n",
    "    def __eq__(self, other: Union[User, 'LobbyMember']): return self.uid == other.uid\n",
    "\n",
    "    @classmethod\n",
    "    def from_cols(cls, data: dict):\n",
    "        data = cols2dict(data)\n",
    "        data[cls]['user'] = User.from_cols(data.pop(User))\n",
    "        return super().from_cols(data[cls])\n",
    "\n",
    "    @classmethod\n",
    "    def convert(cls, member: Optional['LobbyMember'] = None):\n",
    "        cf = dataclasses.fields(cls)\n",
    "        if member: return cls(**{f.name: getattr(member, f.name) for f in dataclasses.fields(member) if f in cf})\n",
    "\n",
    "    def update_user(self, u: User): self.user = u\n",
    "\n",
    "\n",
    "# maps lobby names to memberTypes\n",
    "LOBBY_REGISTRY = {\n",
    "    LobbyMember._lobby_type: LobbyMember\n",
    "}"
   ]
  },
  {
   "cell_type": "code",
   "execution_count": null,
   "metadata": {},
   "outputs": [],
   "source": [
    "# | export\n",
    "\n",
    "\n",
    "@dataclass\n",
    "class Lobby[T: LobbyMember](Model):\n",
    "    _ignore = ('members', 'host')\n",
    "    \n",
    "    id: str = field(default_factory=random_id)\n",
    "    lobby_type: str = LobbyMember._lobby_type\n",
    "    locked: bool = False\n",
    "    game_state: Optional[dict] = None\n",
    "    host: Optional[T] = None\n",
    "    members: dict[str, T] = field(default_factory=dict)\n",
    "    last_active: dt.datetime = field(default_factory=dt.datetime.now)\n",
    "    \n",
    "\n",
    "    def __post_init__(self):\n",
    "        if self.host: self.host_uid = self.host.uid\n",
    "        if isinstance(self.last_active, str): \n",
    "            self.last_active = dt.datetime.fromisoformat(self.last_active)\n",
    "\n",
    "    def sorted_members(self):\n",
    "        '''lobby members sorted by `joined_at` date'''\n",
    "        for m in sorted(self.members.values(), key=lambda m: m.joined_at): yield m\n",
    "\n",
    "    def set_host(self, member: T): \n",
    "        if self.host: self.host.is_host_=False\n",
    "        member.is_host_ = True\n",
    "        self.host = member\n",
    "\n",
    "    def create_member(self, user: User, send: FunctionType = None, **kwargs) -> T:\n",
    "        '''Create a new member for lobby `lobby_type` and add to the lobby'''\n",
    "        self.last_active = dt.datetime.now()\n",
    "        m = LOBBY_REGISTRY[self.lobby_type](user, send=send, **kwargs)\n",
    "        self.add_member(m)\n",
    "        return m\n",
    "    \n",
    "    def add_member(self, member: T):\n",
    "        member.lobby_id = self.id\n",
    "        self.members[member.uid] = member\n",
    "\n",
    "    def get_member(self, uid: str) -> Optional[T]:\n",
    "        self.last_active = dt.datetime.now()\n",
    "        return self.members.get(uid)\n",
    "    \n",
    "    def lock(self): self.locked = True\n",
    "    def unlock(self): self.locked = False\n",
    "\n",
    "    @fc.delegates(create_member)\n",
    "    def get_or_create_member(self, user: User, **kwargs) -> T:\n",
    "        '''get member from the lobby or create a new with `create_member`'''\n",
    "        self.last_active = dt.datetime.now()\n",
    "        m = self.members.get(user.uid)\n",
    "        if not m: m = self.create_member(user, **kwargs)\n",
    "        return m\n",
    "\n",
    "    def convert[T: LobbyMember](self: 'Lobby', lobby_type: str = LobbyMember._lobby_type) -> 'Lobby[T]':\n",
    "        if self.lobby_type == lobby_type: return self\n",
    "        self.lobby_type = lobby_type\n",
    "        mtype = LOBBY_REGISTRY[self.lobby_type]\n",
    "        for k in self.members.keys(): self.members[k] = mtype.convert(self.members[k])\n",
    "        self.host = mtype.convert(self.host)\n",
    "        return self"
   ]
  },
  {
   "cell_type": "code",
   "execution_count": null,
   "metadata": {},
   "outputs": [],
   "source": [
    "# | export\n",
    "\n",
    "MEMBER_MANAGER_REGISTRY = {}\n",
    "\n",
    "\n",
    "def register_manager[T: DataManager](manager: T, entity_cls: type) -> T:\n",
    "    MEMBER_MANAGER_REGISTRY[entity_cls] = manager\n",
    "    return manager\n",
    "\n",
    "\n",
    "class LobbyManager(DataManager[Lobby]):\n",
    "    memm = MEMBER_MANAGER_REGISTRY\n",
    "\n",
    "    def _set_tables(self):\n",
    "        self.lobbies: fl.Table = self.db.t.lobbies.create(**Lobby.columns(), pk='id',\n",
    "                                                          transform=True, if_not_exists=True)\n",
    "        return self.lobbies\n",
    "\n",
    "    def update(self, lobby: Lobby[LobbyMember]):\n",
    "        self.memm[LOBBY_REGISTRY[lobby.lobby_type]].upsert_all(lobby.members.values())\n",
    "        return super().update(lobby)\n",
    "\n",
    "    def get(self, id: str) -> Lobby[LobbyMember]:\n",
    "        if id not in self.lobbies: return\n",
    "        lobby = Lobby.from_cols(self.lobbies.get(id))\n",
    "        lobby.members = {m.user_uid: m for m in self.memm[LOBBY_REGISTRY[lobby.lobby_type]].get_all(id)}\n",
    "        hosts = [m for m in lobby.members.values() if m.is_host]\n",
    "        if hosts: lobby.host = hosts[0]\n",
    "        return lobby\n",
    "\n",
    "    def ids(self) -> list[str]: return [el['id'] for el in self.lobbies(select='id', as_cls=False)]"
   ]
  },
  {
   "cell_type": "code",
   "execution_count": null,
   "metadata": {},
   "outputs": [],
   "source": [
    "# | export\n",
    "class MemberManager(DataManager[LobbyMember]):\n",
    "\n",
    "    def __init__(self, user_manager: UserManager):\n",
    "        self.um, self.users = user_manager, user_manager.users\n",
    "        super().__init__(self.um.db)\n",
    "\n",
    "    def _set_tables(self):\n",
    "        self.members: fl.Table = self.db.t.members.create(**LobbyMember.columns(), pk='id',\n",
    "                                                          foreign_keys=[('user_uid', 'user', 'uid'),\n",
    "                                                                        ('lobby_id', 'lobbies', 'id'),],\n",
    "                                                          transform=True, if_not_exists=True)\n",
    "        return self.members\n",
    "\n",
    "    def update(self, member: LobbyMember):\n",
    "        self.um.update(member.user)\n",
    "        return super().update(member)\n",
    "\n",
    "    def get_all(self, lobby_id: str) -> list[LobbyMember]:\n",
    "        cols = self.members.c\n",
    "        qry = f\"\"\"select {mk_aliases(LobbyMember, self.members)},\n",
    "                  {mk_aliases(User, self.users)}\n",
    "                  from {self.members} join {self.users}\n",
    "                  on {cols.user_uid} = {self.users.c.uid} where {cols.lobby_id} = ?\"\"\"\n",
    "        return list(map(LobbyMember.from_cols, self.db.q(qry, [lobby_id])))\n"
   ]
  },
  {
   "cell_type": "code",
   "execution_count": null,
   "metadata": {},
   "outputs": [
    {
     "data": {
      "text/plain": [
       "Lobby(id='rcg2l', lobby_type='basic', host=LobbyMember(user=User(uid='glowh', name='null', filename=None), user_uid='glowh', lobby_id='rcg2l', is_player=0, is_host_=1, joined_at=datetime.datetime(2025, 1, 19, 14, 53, 43, 564567), score=0, id='bcabvbl9', send=None, ws=None), members={'vn8m1': LobbyMember(user=User(uid='vn8m1', name='null', filename=None), user_uid='vn8m1', lobby_id='rcg2l', is_player=0, is_host_=0, joined_at=datetime.datetime(2025, 1, 19, 14, 53, 43, 564567), score=0, id='9if8axae', send=None, ws=None), 'glowh': LobbyMember(user=User(uid='glowh', name='null', filename=None), user_uid='glowh', lobby_id='rcg2l', is_player=0, is_host_=1, joined_at=datetime.datetime(2025, 1, 19, 14, 53, 43, 564567), score=0, id='bcabvbl9', send=None, ws=None)}, last_active=datetime.datetime(2025, 1, 19, 14, 53, 43, 564567))"
      ]
     },
     "execution_count": null,
     "metadata": {},
     "output_type": "execute_result"
    }
   ],
   "source": [
    "db = init_db()\n",
    "um = UserManager(db)\n",
    "lm = LobbyManager(db)\n",
    "register_manager(MemberManager(um), LobbyMember)\n",
    "l = lm.insert(Lobby())\n",
    "l.create_member(um.create())\n",
    "m = l.create_member(um.create())\n",
    "l.set_host(m)\n",
    "lm.update(l)\n",
    "lm.get(l.id)"
   ]
  },
  {
   "cell_type": "code",
   "execution_count": null,
   "metadata": {},
   "outputs": [],
   "source": [
    "\n",
    "# | export\n",
    "\n",
    "class LobbyService:\n",
    "    lobby_lifetime = dt.timedelta(hours=5)\n",
    "    lobby_limit = 50\n",
    "\n",
    "    def __init__(self, lobby_manager: LobbyManager):\n",
    "        self.lm = lobby_manager\n",
    "        self.lobbies: dict[str, Lobby] = {}\n",
    "\n",
    "    def __repr__(self): return f'{self.__class__.__name__}(active_lobbies={len(self.lobbies)})'\n",
    "\n",
    "    def create_lobby[T: LobbyMember](self, u: User, lobby_id: Optional[str] = None, lobby_type: str = LobbyMember._lobby_type) -> Lobby[T]:\n",
    "        lobby_id = lobby_id or random_id()\n",
    "        ids = list(self.lobbies) + self.lm.ids()\n",
    "        while lobby_id in ids: lobby_id = random_id()\n",
    "        lobby = Lobby[LOBBY_REGISTRY[lobby_type]](lobby_id, lobby_type=lobby_type)\n",
    "        lobby.set_host(lobby.create_member(u))\n",
    "        self.lobbies[lobby_id] = lobby\n",
    "        self.lm.insert(lobby)\n",
    "        return lobby\n",
    "\n",
    "    def get_lobby(self, id: Optional[str] = None) -> Optional[Lobby]:\n",
    "        lobby = self.lobbies.get(id)\n",
    "        if lobby: return lobby\n",
    "        lobby = self.lm.get(id)\n",
    "        if lobby: self.lobbies[id] = lobby\n",
    "        return lobby\n",
    "\n",
    "    def delete_lobby(self, id: str):\n",
    "        self.lobbies.pop(id)\n",
    "        self.lm.delete(id)\n",
    "\n",
    "    def get_or_create[T: LobbyMember](self, u: User, id: Optional[str] = None,\n",
    "                                      member_type: type[T] = LobbyMember) -> tuple[Lobby[T], bool]:\n",
    "        '''Returns the lobby if it exists, otherwise creates one if id was valid. Returns (lobby, created)'''\n",
    "        if not id or not id.isascii(): raise HTTPException(400, 'Invalid lobby id, must be ascii')\n",
    "        ltype = dict_inverse(LOBBY_REGISTRY)[member_type]\n",
    "        if lobby := self.get_lobby(id): return lobby.convert(ltype), False\n",
    "        if len(self.lobbies) >= self.lobby_limit: raise HTTPException(\n",
    "            400, 'Too many lobbies, wait until some are finished')\n",
    "        return self.create_lobby(u, id, ltype), True\n",
    "\n",
    "    def sync_active_lobbies_user(self, u: User):\n",
    "        for l in self.lobbies.values(): l.members[u.uid].update_user(u)\n",
    "\n",
    "    def update(self, lobby: Lobby): self.lm.update(lobby)"
   ]
  },
  {
   "cell_type": "code",
   "execution_count": null,
   "metadata": {},
   "outputs": [],
   "source": [
    "ls = LobbyService(lm)"
   ]
  },
  {
   "cell_type": "code",
   "execution_count": null,
   "metadata": {},
   "outputs": [
    {
     "data": {
      "text/plain": [
       "{1: Lobby(id=1, lobby_type='basic', host=LobbyMember(user=User(uid='l4do2', name='null', filename=UNSET), user_uid='l4do2', lobby_id=1, is_player=False, is_host_=True, joined_at=datetime.datetime(2025, 1, 19, 14, 53, 43, 623617), score=0, id='c70ta8qt', send=None, ws=None), members={'l4do2': LobbyMember(user=User(uid='l4do2', name='null', filename=UNSET), user_uid='l4do2', lobby_id=1, is_player=False, is_host_=True, joined_at=datetime.datetime(2025, 1, 19, 14, 53, 43, 623617), score=0, id='c70ta8qt', send=None, ws=None)}, last_active=datetime.datetime(2025, 1, 19, 14, 53, 43, 623617)),\n",
       " 2: Lobby(id=2, lobby_type='basic', host=LobbyMember(user=User(uid='xfhpp', name='null', filename=UNSET), user_uid='xfhpp', lobby_id=2, is_player=False, is_host_=True, joined_at=datetime.datetime(2025, 1, 19, 14, 53, 43, 623617), score=0, id='v2id0dg3', send=None, ws=None), members={'xfhpp': LobbyMember(user=User(uid='xfhpp', name='null', filename=UNSET), user_uid='xfhpp', lobby_id=2, is_player=False, is_host_=True, joined_at=datetime.datetime(2025, 1, 19, 14, 53, 43, 623617), score=0, id='v2id0dg3', send=None, ws=None)}, last_active=datetime.datetime(2025, 1, 19, 14, 53, 43, 623617))}"
      ]
     },
     "execution_count": null,
     "metadata": {},
     "output_type": "execute_result"
    }
   ],
   "source": [
    "ls.create_lobby(um.create(), 1)\n",
    "ls.create_lobby(um.create(), 2)\n",
    "ls.lobbies"
   ]
  },
  {
   "cell_type": "code",
   "execution_count": null,
   "metadata": {},
   "outputs": [
    {
     "data": {
      "text/plain": [
       "{2: Lobby(id=2, lobby_type='basic', host=LobbyMember(user=User(uid='xfhpp', name='null', filename=UNSET), user_uid='xfhpp', lobby_id=2, is_player=False, is_host_=True, joined_at=datetime.datetime(2025, 1, 19, 14, 53, 43, 623617), score=0, id='v2id0dg3', send=None, ws=None), members={'xfhpp': LobbyMember(user=User(uid='xfhpp', name='null', filename=UNSET), user_uid='xfhpp', lobby_id=2, is_player=False, is_host_=True, joined_at=datetime.datetime(2025, 1, 19, 14, 53, 43, 623617), score=0, id='v2id0dg3', send=None, ws=None)}, last_active=datetime.datetime(2025, 1, 19, 14, 53, 43, 623617))}"
      ]
     },
     "execution_count": null,
     "metadata": {},
     "output_type": "execute_result"
    }
   ],
   "source": [
    "ls.delete_lobby(1)\n",
    "ls.lobbies"
   ]
  },
  {
   "cell_type": "code",
   "execution_count": null,
   "metadata": {},
   "outputs": [],
   "source": [
    "#| export\n",
    "def is_player(u: LobbyMember|User): return isinstance(u, LobbyMember) and u.is_player"
   ]
  },
  {
   "cell_type": "code",
   "execution_count": null,
   "metadata": {},
   "outputs": [],
   "source": [
    "#| export\n",
    "def lobby_beforeware(service: LobbyService, skip=None):\n",
    "    '''Makes sure that request always contains valid lobby'''\n",
    "    def before(req: Request):\n",
    "        u: User = req.state.user\n",
    "        path_lobby_id = req.path_params.get('lobby_id')\n",
    "        if path_lobby_id: req.session['lobby_id'] = path_lobby_id\n",
    "        lobby: Lobby = service.get_lobby(req.session.get(\"lobby_id\"))\n",
    "        if not lobby: raise HTTPException(404, 'Lobby not found')\n",
    "        req.state.lobby = lobby\n",
    "        \n",
    "    return Beforeware(before, skip)"
   ]
  },
  {
   "cell_type": "markdown",
   "metadata": {},
   "source": [
    "## Views"
   ]
  },
  {
   "cell_type": "code",
   "execution_count": null,
   "metadata": {},
   "outputs": [],
   "source": [
    "# | export\n",
    "def Members(r: User|LobbyMember, lobby: Lobby):\n",
    "    return Table(\n",
    "        Tr(Th('Name'), Th('id'), Th('Is connected')),\n",
    "        *[Tr(Td(UserName(r.user, member.user)), Td(member.uid), Td(member.is_connected)) for member in lobby.sorted_members()],\n",
    "        id='members'\n",
    "    )"
   ]
  }
 ],
 "metadata": {
  "kernelspec": {
   "display_name": "python3",
   "language": "python",
   "name": "python3"
  }
 },
 "nbformat": 4,
 "nbformat_minor": 2
}

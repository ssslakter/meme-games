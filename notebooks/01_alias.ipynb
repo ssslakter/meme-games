{
 "cells": [
  {
   "cell_type": "code",
   "execution_count": null,
   "metadata": {},
   "outputs": [],
   "source": [
    "#| default_exp alias"
   ]
  },
  {
   "cell_type": "code",
   "execution_count": null,
   "metadata": {},
   "outputs": [],
   "source": [
    "from transitions.extensions.asyncio import AsyncMachine\n",
    "import asyncio\n",
    "import time\n",
    "\n",
    "\n",
    "class AsyncModel:\n",
    "\n",
    "    def prepare_model(self):\n",
    "        print(\"I am synchronous.\")\n",
    "        self.start_time = time.time()\n",
    "\n",
    "    async def before_change(self):\n",
    "        print(\"I am asynchronous and will block now for 100 milliseconds.\")\n",
    "        await asyncio.sleep(0.1)\n",
    "        print(\"I am done waiting.\")\n",
    "\n",
    "    def sync_before_change(self):\n",
    "        print(\"I am synchronous and will block the event loop (what I probably shouldn't)\")\n",
    "        time.sleep(0.1)\n",
    "        print(\"I am done waiting synchronously.\")\n",
    "\n",
    "    def after_change(self):\n",
    "        print(f\"I am synchronous again. Execution took {int((time.time() - self.start_time) * 1000)} ms.\")\n",
    "\n",
    "\n",
    "transition = dict(trigger=\"start\", source=\"Start\", dest=\"Done\", prepare=\"prepare_model\",\n",
    "                  before=[\"before_change\"] * 5 + [\"sync_before_change\"],\n",
    "                  after=\"after_change\")  # execute before function in asynchronously 5 times\n",
    "model = AsyncModel()\n",
    "machine = AsyncMachine(model, states=[\"Start\", \"Done\"], transitions=[transition], initial='Start')\n",
    "\n",
    "asyncio.get_event_loop().run_until_complete(model.start())\n",
    "assert model.is_Done()"
   ]
  }
 ],
 "metadata": {
  "kernelspec": {
   "display_name": "python3",
   "language": "python",
   "name": "python3"
  }
 },
 "nbformat": 4,
 "nbformat_minor": 2
}

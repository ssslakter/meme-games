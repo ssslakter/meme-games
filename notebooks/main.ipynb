{
 "cells": [
  {
   "cell_type": "code",
   "execution_count": null,
   "metadata": {},
   "outputs": [],
   "source": [
    "#| default_exp main"
   ]
  },
  {
   "cell_type": "code",
   "execution_count": null,
   "metadata": {},
   "outputs": [],
   "source": [
    "#| export\n",
    "from uuid import uuid4\n",
    "from typing import Callable\n",
    "from dataclasses import dataclass\n",
    "from fasthtml.common import *\n",
    "from fasthtml.jupyter import JupyUvi, HTMX\n",
    "import fastcore.all as fc\n",
    "from meme_games.user import *\n",
    "from meme_games.init import *\n",
    "from meme_games.lobby import *\n",
    "from fastlite import *"
   ]
  },
  {
   "cell_type": "code",
   "execution_count": null,
   "metadata": {},
   "outputs": [],
   "source": [
    "#| export\n",
    "db = init_db()\n",
    "user_manager, lobby_manager = init_services(db)\n",
    "bwares = [user_beforeware(user_manager)]\n",
    "app, rt = fast_app(pico=False, before=bwares, hdrs=hdrs, exts='ws', bodykw={'hx-boost': 'true'})"
   ]
  },
  {
   "cell_type": "code",
   "execution_count": null,
   "metadata": {},
   "outputs": [],
   "source": [
    "#| export\n",
    "import asyncio\n",
    "\n",
    "async def send(u: LobbyMember, fn, *args):\n",
    "    try: await u.ws(fn(*args))\n",
    "    except: u.ws = None\n",
    "\n",
    "async def notify_all(lobby:Lobby, fn: Callable, *args):\n",
    "    tasks = [send(u, fn, lobby, *args) for u in lobby.members.values() if u.is_connected]\n",
    "    await asyncio.gather(*tasks)"
   ]
  },
  {
   "cell_type": "code",
   "execution_count": null,
   "metadata": {},
   "outputs": [],
   "source": [
    "#| export\n",
    "@rt(\"/{lobby_id}\")\n",
    "def get(req: Request, lobby_id: str=None):\n",
    "    u: User = req.state.user\n",
    "    if lobby:=lobby_manager.get_lobby(lobby_id or ''): \n",
    "        req.session['lobby_id'] = lobby.id\n",
    "        return Titled(f'Lobby {lobby.id}', \n",
    "                     Members(lobby),\n",
    "                     Div(hx_ext='ws', ws_connect='/game'),\n",
    "                     NameSetting())\n",
    "    \n",
    "    lobby = lobby_manager.create_lobby(u)\n",
    "    return Redirect(f\"/{lobby.id}\")\n",
    "\n",
    "def ws_fn(connected=True):\n",
    "    async def user_joined(sess, send):\n",
    "        u = user_manager.get_or_create(sess)\n",
    "        lobby = lobby_manager.get_lobby(sess.get('lobby_id'))\n",
    "        if not lobby: return\n",
    "        lobby.get_or_create_member(u, send if connected else None)\n",
    "        await notify_all(lobby, Members)\n",
    "    return user_joined\n",
    "    \n",
    "\n",
    "@app.ws('/game', conn=ws_fn(), disconn=ws_fn(connected=False))\n",
    "async def ws(send): pass\n"
   ]
  },
  {
   "cell_type": "code",
   "execution_count": null,
   "metadata": {},
   "outputs": [],
   "source": [
    "#| export\n",
    "@rt('/name')\n",
    "async def put(req: Request, name:str):\n",
    "    u: User = req.state.user\n",
    "    u.name = name\n",
    "    user_manager.update(u)\n",
    "    lobby: Lobby = lobby_manager.get_lobby(req.session.get(\"lobby_id\"))\n",
    "    if not lobby: return\n",
    "    def update(lobby): return UserName(u)\n",
    "    await notify_all(lobby, update)"
   ]
  },
  {
   "cell_type": "code",
   "execution_count": null,
   "metadata": {},
   "outputs": [
    {
     "data": {
      "text/html": [
       "\n",
       "<script>\n",
       "document.body.addEventListener('htmx:configRequest', (event) => {\n",
       "    if(event.detail.path.includes('://')) return;\n",
       "    htmx.config.selfRequestsOnly=false;\n",
       "    event.detail.path = `${location.protocol}//${location.hostname}:8000${event.detail.path}`;\n",
       "});\n",
       "</script>"
      ],
      "text/plain": [
       "<IPython.core.display.HTML object>"
      ]
     },
     "metadata": {},
     "output_type": "display_data"
    },
    {
     "name": "stdout",
     "output_type": "stream",
     "text": [
      "session: {'uid': '065f3f83-599e-48b1-aefe-eff14ba45b7e', 'lobby_id': 'r441z'}\n",
      "lobby is Lobby(id='r441z', host=LobbyMember(user=User(uid='065f3f83-599e-48b1-aefe-eff14ba45b7e', name='null'), ws=functools.partial(<function _send_ws>, <starlette.websockets.WebSocket object>), joined_at=datetime.datetime(2025, 1, 4, 22, 53, 27, 698969)), members={'065f3f83-599e-48b1-aefe-eff14ba45b7e': LobbyMember(user=User(uid='065f3f83-599e-48b1-aefe-eff14ba45b7e', name='null'), ws=functools.partial(<function _send_ws>, <starlette.websockets.WebSocket object>), joined_at=datetime.datetime(2025, 1, 4, 22, 53, 27, 698969)), '17f02c83-8532-4d16-9138-1f8411597b6f': LobbyMember(user=User(uid='17f02c83-8532-4d16-9138-1f8411597b6f', name='null'), ws=functools.partial(<function _send_ws>, <starlette.websockets.WebSocket object>), joined_at=datetime.datetime(2025, 1, 4, 22, 53, 50, 23534))}, last_active=datetime.datetime(2025, 1, 4, 22, 53, 27, 698994))\n",
      "session: {'uid': '17f02c83-8532-4d16-9138-1f8411597b6f', 'lobby_id': 'r441z'}\n",
      "lobby is Lobby(id='r441z', host=LobbyMember(user=User(uid='065f3f83-599e-48b1-aefe-eff14ba45b7e', name='null'), ws=functools.partial(<function _send_ws>, <starlette.websockets.WebSocket object>), joined_at=datetime.datetime(2025, 1, 4, 22, 53, 27, 698969)), members={'065f3f83-599e-48b1-aefe-eff14ba45b7e': LobbyMember(user=User(uid='065f3f83-599e-48b1-aefe-eff14ba45b7e', name='null'), ws=functools.partial(<function _send_ws>, <starlette.websockets.WebSocket object>), joined_at=datetime.datetime(2025, 1, 4, 22, 53, 27, 698969)), '17f02c83-8532-4d16-9138-1f8411597b6f': LobbyMember(user=User(uid='17f02c83-8532-4d16-9138-1f8411597b6f', name='null'), ws=functools.partial(<function _send_ws>, <starlette.websockets.WebSocket object>), joined_at=datetime.datetime(2025, 1, 4, 22, 53, 50, 23534))}, last_active=datetime.datetime(2025, 1, 4, 22, 53, 27, 698994))\n",
      "session: {'uid': '17f02c83-8532-4d16-9138-1f8411597b6f', 'lobby_id': 'sl38o'}\n",
      "lobby is Lobby(id='sl38o', host=LobbyMember(user=User(uid='17f02c83-8532-4d16-9138-1f8411597b6f', name='kok'), ws=functools.partial(<function _send_ws>, <starlette.websockets.WebSocket object>), joined_at=datetime.datetime(2025, 1, 4, 22, 54, 16, 709180)), members={'17f02c83-8532-4d16-9138-1f8411597b6f': LobbyMember(user=User(uid='17f02c83-8532-4d16-9138-1f8411597b6f', name='kok'), ws=functools.partial(<function _send_ws>, <starlette.websockets.WebSocket object>), joined_at=datetime.datetime(2025, 1, 4, 22, 54, 16, 709180)), '065f3f83-599e-48b1-aefe-eff14ba45b7e': LobbyMember(user=User(uid='065f3f83-599e-48b1-aefe-eff14ba45b7e', name='123'), ws=functools.partial(<function _send_ws>, <starlette.websockets.WebSocket object>), joined_at=datetime.datetime(2025, 1, 4, 22, 54, 25, 459601))}, last_active=datetime.datetime(2025, 1, 4, 22, 54, 16, 709193))\n",
      "session: {'uid': '17f02c83-8532-4d16-9138-1f8411597b6f', 'lobby_id': 'eoiom'}\n",
      "lobby is Lobby(id='eoiom', host=LobbyMember(user=User(uid='17f02c83-8532-4d16-9138-1f8411597b6f', name='lololoshka'), ws=functools.partial(<function _send_ws>, <starlette.websockets.WebSocket object>), joined_at=datetime.datetime(2025, 1, 4, 22, 54, 38, 682074)), members={'17f02c83-8532-4d16-9138-1f8411597b6f': LobbyMember(user=User(uid='17f02c83-8532-4d16-9138-1f8411597b6f', name='lololoshka'), ws=functools.partial(<function _send_ws>, <starlette.websockets.WebSocket object>), joined_at=datetime.datetime(2025, 1, 4, 22, 54, 38, 682074)), '065f3f83-599e-48b1-aefe-eff14ba45b7e': LobbyMember(user=User(uid='065f3f83-599e-48b1-aefe-eff14ba45b7e', name='123'), ws=functools.partial(<function _send_ws>, <starlette.websockets.WebSocket object>), joined_at=datetime.datetime(2025, 1, 4, 22, 54, 49, 77024))}, last_active=datetime.datetime(2025, 1, 4, 22, 54, 38, 682091))\n"
     ]
    }
   ],
   "source": [
    "#| export\n",
    "server = JupyUvi(app)"
   ]
  },
  {
   "cell_type": "code",
   "execution_count": null,
   "metadata": {},
   "outputs": [
    {
     "data": {
      "text/plain": [
       "Lobby(id='8gz79', host=LobbyMember(user=User(uid='17f02c83-8532-4d16-9138-1f8411597b6f', name='null'), ws=functools.partial(<function _send_ws>, <starlette.websockets.WebSocket object>), joined_at=datetime.datetime(2025, 1, 4, 22, 46, 45, 679772)), members={'17f02c83-8532-4d16-9138-1f8411597b6f': LobbyMember(user=User(uid='17f02c83-8532-4d16-9138-1f8411597b6f', name='null'), ws=functools.partial(<function _send_ws>, <starlette.websockets.WebSocket object>), joined_at=datetime.datetime(2025, 1, 4, 22, 46, 45, 679772)), '065f3f83-599e-48b1-aefe-eff14ba45b7e': LobbyMember(user=User(uid='065f3f83-599e-48b1-aefe-eff14ba45b7e', name='null'), ws=functools.partial(<function _send_ws>, <starlette.websockets.WebSocket object>), joined_at=datetime.datetime(2025, 1, 4, 22, 46, 50, 689516))}, last_active=datetime.datetime(2025, 1, 4, 22, 46, 45, 679785))"
      ]
     },
     "execution_count": null,
     "metadata": {},
     "output_type": "execute_result"
    }
   ],
   "source": [
    "lobby_manager.get_lobby(\"8gz79\")"
   ]
  },
  {
   "cell_type": "code",
   "execution_count": null,
   "metadata": {},
   "outputs": [],
   "source": [
    "server.stop()"
   ]
  }
 ],
 "metadata": {
  "kernelspec": {
   "display_name": "python3",
   "language": "python",
   "name": "python3"
  }
 },
 "nbformat": 4,
 "nbformat_minor": 2
}

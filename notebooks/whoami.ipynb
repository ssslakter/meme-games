{
 "cells": [
  {
   "cell_type": "code",
   "execution_count": null,
   "metadata": {},
   "outputs": [],
   "source": [
    "# | default_exp whoami.domain"
   ]
  },
  {
   "cell_type": "code",
   "execution_count": null,
   "metadata": {},
   "outputs": [],
   "source": [
    "# | export\n",
    "from meme_games.common import *"
   ]
  },
  {
   "cell_type": "code",
   "execution_count": null,
   "metadata": {},
   "outputs": [],
   "source": [
    "# | export\n",
    "\n",
    "@dataclass\n",
    "class PlayerLabel:\n",
    "    x: int = 0\n",
    "    y: int = 0\n",
    "    width: int = 0\n",
    "    height: int = 0\n",
    "\n",
    "\n",
    "@dataclass\n",
    "class WhoAmIPlayer(LobbyMember):\n",
    "    _ignore = LobbyMember._ignore + ('label_tfm',)\n",
    "    label_text: str = ''\n",
    "    label_tfm: Optional[PlayerLabel] = None\n",
    "    notes: str = ''\n",
    "\n",
    "    def set_notes(self, notes: str): self.notes = notes\n",
    "    def set_label(self, label: str): self.label_text = label\n",
    "    def set_label_transform(self, tfm: dict): self.label_tfm = PlayerLabel(**tfm)\n",
    "    \n",
    "WAILobby = Lobby[WhoAmIPlayer]"
   ]
  },
  {
   "cell_type": "code",
   "execution_count": null,
   "metadata": {},
   "outputs": [
    {
     "data": {
      "text/plain": [
       "{'user_uid': 1,\n",
       " 'lobby_id': None,\n",
       " 'is_player': False,\n",
       " 'is_host_': False,\n",
       " 'joined_at': datetime.datetime(2025, 1, 19, 1, 14, 44, 736332),\n",
       " 'score': 0,\n",
       " 'id': 'scqfhpjg',\n",
       " 'label_text': 'cat',\n",
       " 'notes': ''}"
      ]
     },
     "execution_count": null,
     "metadata": {},
     "output_type": "execute_result"
    }
   ],
   "source": [
    "p = WhoAmIPlayer(User(1,1), label_text='cat')\n",
    "p.set_label_transform(dict(x=1,y=1, width=1,height=2))\n",
    "asdict(p)"
   ]
  },
  {
   "cell_type": "code",
   "execution_count": null,
   "metadata": {},
   "outputs": [],
   "source": [
    "#| export\n",
    "class WhoAmIManager(DataManager[WhoAmIPlayer]):\n",
    "    def __init__(self, member_manager: MemberManager):\n",
    "        self.mm = member_manager\n",
    "        super().__init__(member_manager.db)\n",
    "    \n",
    "    def _set_tables(self):\n",
    "        new_cols = dict(set(WhoAmIPlayer.columns().items()) - set(LobbyMember.columns().items()))\n",
    "        for c in new_cols.items(): self.mm.members.add_column(*c)\n",
    "        return self.mm.members\n",
    "    \n",
    "    def get_all(self, lobby_id: str) -> list[WhoAmIPlayer]: \n",
    "        return [WhoAmIPlayer.convert(m) for m in self.mm.get_all(lobby_id)]"
   ]
  },
  {
   "cell_type": "code",
   "execution_count": null,
   "metadata": {},
   "outputs": [],
   "source": [
    "db = init_db()\n",
    "user_manager = UserManager(db)\n",
    "member_manager = MemberManager(user_manager)\n",
    "lobby_manager = LobbyManager(member_manager)\n",
    "whoami_manger = WhoAmIManager(member_manager)\n",
    "service = LobbyService(lobby_manager)"
   ]
  },
  {
   "cell_type": "code",
   "execution_count": null,
   "metadata": {},
   "outputs": [
    {
     "data": {
      "text/plain": [
       "WhoAmIPlayer(user=User(uid='0n8md', name='null', filename=UNSET), user_uid='0n8md', lobby_id=None, is_player=False, is_host_=False, joined_at=datetime.datetime(2025, 1, 19, 1, 14, 44, 876490), score=0, id='cyg694ey', send=None, ws=None, label_text='', label_tfm=None, notes='')"
      ]
     },
     "execution_count": null,
     "metadata": {},
     "output_type": "execute_result"
    }
   ],
   "source": [
    "u = user_manager.create()\n",
    "p = WhoAmIPlayer(u)\n",
    "whoami_manger.insert(p)"
   ]
  },
  {
   "cell_type": "code",
   "execution_count": null,
   "metadata": {},
   "outputs": [],
   "source": [
    "lobby = service.create_lobby(user_manager.create())"
   ]
  },
  {
   "cell_type": "code",
   "execution_count": null,
   "metadata": {},
   "outputs": [
    {
     "data": {
      "text/plain": [
       "WhoAmIPlayer(user=None, user_uid='rda1w', lobby_id='xiq2h', is_player=False, is_host_=True, joined_at=datetime.datetime(2025, 1, 19, 1, 14, 44, 890456), score=0, id='s3yjrffr', send=None, ws=None, label_text='', label_tfm=None, notes='')"
      ]
     },
     "execution_count": null,
     "metadata": {},
     "output_type": "execute_result"
    }
   ],
   "source": [
    "WhoAmIPlayer.convert(lobby.host)"
   ]
  },
  {
   "cell_type": "code",
   "execution_count": null,
   "metadata": {},
   "outputs": [
    {
     "data": {
      "text/plain": [
       "''"
      ]
     },
     "execution_count": null,
     "metadata": {},
     "output_type": "execute_result"
    }
   ],
   "source": [
    "l = lobby.convert(WhoAmIPlayer)\n",
    "l.host.set_label_transform()"
   ]
  },
  {
   "cell_type": "code",
   "execution_count": null,
   "metadata": {},
   "outputs": [
    {
     "data": {
      "text/plain": [
       "WhoAmIPlayer(user=None, user_uid='fy911', lobby_id='mwrcu', is_player=False, is_host_=True, joined_at=datetime.datetime(2025, 1, 19, 0, 21, 52, 787537), score=0, id='zqnq10o3', send=None, ws=None, label_text='', label_tfm=PlayerLabel(x=0, y=0, width=0, height=0), notes='')"
      ]
     },
     "execution_count": null,
     "metadata": {},
     "output_type": "execute_result"
    }
   ],
   "source": [
    "a = WhoAmIPlayer.convert(lobby.host)\n",
    "a.set_label_transform(dict())\n",
    "a"
   ]
  }
 ],
 "metadata": {
  "kernelspec": {
   "display_name": "python3",
   "language": "python",
   "name": "python3"
  }
 },
 "nbformat": 4,
 "nbformat_minor": 2
}

{
 "cells": [
  {
   "cell_type": "code",
   "execution_count": null,
   "metadata": {},
   "outputs": [],
   "source": [
    "# | default_exp apps.whoami.domain"
   ]
  },
  {
   "cell_type": "code",
   "execution_count": null,
   "metadata": {},
   "outputs": [],
   "source": [
    "# | export\n",
    "import ast\n",
    "from meme_games.core import *\n",
    "from meme_games.domain import *"
   ]
  },
  {
   "cell_type": "code",
   "execution_count": null,
   "metadata": {},
   "outputs": [],
   "source": [
    "# | export\n",
    "\n",
    "@dataclass\n",
    "class PlayerLabel:\n",
    "    x: int = 0\n",
    "    y: int = 0\n",
    "    width: int = 0\n",
    "    height: int = 0\n",
    "\n",
    "\n",
    "@dataclass\n",
    "class WhoAmIPlayer(LobbyMember):\n",
    "    _lobby_type = 'whoami'\n",
    "    label_text: str = ''\n",
    "    label_tfm: Optional[PlayerLabel] = None\n",
    "    notes: str = ''\n",
    "\n",
    "    def __post_init__(self):\n",
    "        if isinstance(self.label_tfm, str): self.label_tfm = PlayerLabel(**ast.literal_eval(self.label_tfm))\n",
    "        return super().__post_init__()\n",
    "\n",
    "    def set_notes(self, notes: str): self.notes = notes\n",
    "    def set_label(self, label: str): self.label_text = label\n",
    "    def set_label_transform(self, tfm: dict = None): self.label_tfm = PlayerLabel(**(tfm or {}))\n",
    "\n",
    "    @classmethod\n",
    "    def columns(cls):\n",
    "        cols = dict(set(super().columns().items()) - set(LobbyMember.columns().items()))\n",
    "        cols.update({'id': str})\n",
    "        return cols\n",
    "\n",
    "    @classmethod\n",
    "    def from_dict(cls, data: dict):\n",
    "        data = cols2dict(data)\n",
    "        data[cls]['user'] = User.from_dict(data.pop(User))\n",
    "        data[cls].update(data.pop(LobbyMember))\n",
    "        return super(LobbyMember, cls).from_dict(data[cls])\n",
    "\n",
    "WAILobby = Lobby[WhoAmIPlayer]"
   ]
  },
  {
   "cell_type": "code",
   "execution_count": null,
   "metadata": {},
   "outputs": [],
   "source": [
    "db = init_db()\n",
    "um = UserManager(db)\n",
    "lm = LobbyManager(db)\n",
    "mm = register_manager(MemberManager(um), LobbyMember)"
   ]
  },
  {
   "cell_type": "code",
   "execution_count": null,
   "metadata": {},
   "outputs": [
    {
     "data": {
      "text/plain": [
       "{'user_uid': 1,\n",
       " 'lobby_id': None,\n",
       " 'is_player': False,\n",
       " 'is_host_': False,\n",
       " 'joined_at': datetime.datetime(2025, 1, 19, 16, 11, 25, 182315),\n",
       " 'score': 0,\n",
       " 'id': 'jqvawcts',\n",
       " 'label_text': 'cat',\n",
       " 'label_tfm': {'x': 1, 'y': 1, 'width': 1, 'height': 2},\n",
       " 'notes': ''}"
      ]
     },
     "execution_count": null,
     "metadata": {},
     "output_type": "execute_result"
    }
   ],
   "source": [
    "p = WhoAmIPlayer(um.create(1,1), label_text='cat')\n",
    "p.set_label_transform(dict(x=1,y=1, width=1,height=2))\n",
    "asdict(p)"
   ]
  },
  {
   "cell_type": "code",
   "execution_count": null,
   "metadata": {},
   "outputs": [],
   "source": [
    "#| export\n",
    "class WhoAmIManager(DataManager[WhoAmIPlayer]):\n",
    "    \n",
    "    def __init__(self, member_manager: MemberManager):\n",
    "        self.mm = member_manager\n",
    "        self.mem_t = self.mm.members\n",
    "        super().__init__(self.mm.db)\n",
    "    \n",
    "    def _set_tables(self):\n",
    "        self.players = self.db.t.whoami_members.create(**WhoAmIPlayer.columns(), \n",
    "                                                       pk='id', transform=True, if_not_exists=True,\n",
    "                                                       foreign_keys=[('id', 'members', 'id')])\n",
    "        return self.players\n",
    "\n",
    "    def upsert(self, obj):\n",
    "        self.mm.upsert(obj._asdict(LobbyMember.columns().keys()))\n",
    "        return super().upsert(obj._asdict(WhoAmIPlayer.columns().keys()))\n",
    "    \n",
    "    def upsert_all(self, objs):\n",
    "        self.mm.upsert_all([o._asdict(LobbyMember.columns().keys()) for o in objs])\n",
    "        return super().upsert_all([o._asdict(WhoAmIPlayer.columns().keys()) for o in objs])\n",
    "    \n",
    "    def update(self, obj):\n",
    "        self.mm.update(obj._asdict(LobbyMember.columns().keys()))\n",
    "        return super().update(obj._asdict(WhoAmIPlayer.columns().keys()))\n",
    "\n",
    "    def insert(self, obj: WhoAmIPlayer):\n",
    "        self.mm.insert(obj._asdict(LobbyMember.columns().keys()))\n",
    "        return super().insert(obj._asdict(WhoAmIPlayer.columns().keys()))\n",
    "    \n",
    "    def get_all(self, lobby_id: str) -> list[WhoAmIPlayer]: \n",
    "        qry = f'''select {mk_aliases(WhoAmIPlayer, self.players)},  \n",
    "                 {mk_aliases(LobbyMember, self.mem_t)},\n",
    "                 {mk_aliases(User, self.mm.users)}\n",
    "                  from {self.players} \\\n",
    "                  join {self.mem_t} on {self.mem_t.c.id} = {self.players.c.id} \\\n",
    "                  join {self.mm.users} on {self.mem_t.c.user_uid} = {self.mm.users.c.uid} \\\n",
    "                  where {self.mem_t.c.lobby_id} = ?'''\n",
    "        return list(map(WhoAmIPlayer.from_dict, self.db.q(qry, [lobby_id])))"
   ]
  },
  {
   "cell_type": "code",
   "execution_count": null,
   "metadata": {},
   "outputs": [],
   "source": [
    "#| export\n",
    "DI.register_service(WhoAmIManager)"
   ]
  },
  {
   "cell_type": "code",
   "execution_count": null,
   "metadata": {},
   "outputs": [
    {
     "data": {
      "text/plain": [
       "Lobby(id='1zgw1', lobby_type='whoami', host=WhoAmIPlayer(user=User(uid='g0w2c', name='null', filename=UNSET), user_uid='g0w2c', lobby_id='1zgw1', is_player=False, is_host_=True, joined_at=datetime.datetime(2025, 1, 19, 16, 11, 25, 209632), score=0, id='3ysivfkc', send=None, ws=None, label_text='', label_tfm=None, notes=''), members={'g0w2c': WhoAmIPlayer(user=User(uid='g0w2c', name='null', filename=UNSET), user_uid='g0w2c', lobby_id='1zgw1', is_player=False, is_host_=True, joined_at=datetime.datetime(2025, 1, 19, 16, 11, 25, 209632), score=0, id='3ysivfkc', send=None, ws=None, label_text='', label_tfm=None, notes=''), 1: WhoAmIPlayer(user=User(uid=1, name=1, filename=UNSET), user_uid=1, lobby_id='1zgw1', is_player=False, is_host_=False, joined_at=datetime.datetime(2025, 1, 19, 16, 11, 25, 182315), score=0, id='jqvawcts', send=None, ws=None, label_text='cat', label_tfm=PlayerLabel(x=1, y=1, width=1, height=2), notes='')}, last_active=datetime.datetime(2025, 1, 19, 16, 11, 25, 209632))"
      ]
     },
     "execution_count": null,
     "metadata": {},
     "output_type": "execute_result"
    }
   ],
   "source": [
    "wm = register_manager(WhoAmIManager(mm), WhoAmIPlayer)\n",
    "l = lm.insert(Lobby(lobby_type=WhoAmIPlayer._lobby_type))\n",
    "m = l.create_member(um.create())\n",
    "l.set_host(m)\n",
    "l.add_member(p)\n",
    "lm.update(l)"
   ]
  },
  {
   "cell_type": "code",
   "execution_count": null,
   "metadata": {},
   "outputs": [
    {
     "data": {
      "text/plain": [
       "{'g0w2c': WhoAmIPlayer(user=User(uid='g0w2c', name='null', filename=None), user_uid='g0w2c', lobby_id=None, is_player=False, is_host_=False, joined_at=datetime.datetime(2025, 1, 19, 16, 12, 3, 813565), score=0, id='3ysivfkc', send=None, ws=None, label_text='', label_tfm=None, notes=''),\n",
       " '1': WhoAmIPlayer(user=User(uid='1', name='1', filename=None), user_uid='1', lobby_id=None, is_player=False, is_host_=False, joined_at=datetime.datetime(2025, 1, 19, 16, 12, 3, 813565), score=0, id='jqvawcts', send=None, ws=None, label_text='cat', label_tfm=PlayerLabel(x=1, y=1, width=1, height=2), notes='')}"
      ]
     },
     "execution_count": null,
     "metadata": {},
     "output_type": "execute_result"
    }
   ],
   "source": [
    "lm.get(l.id).members"
   ]
  }
 ],
 "metadata": {
  "kernelspec": {
   "display_name": "python3",
   "language": "python",
   "name": "python3"
  }
 },
 "nbformat": 4,
 "nbformat_minor": 2
}
